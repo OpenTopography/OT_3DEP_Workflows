{
 "cells": [
  {
   "cell_type": "markdown",
   "id": "ffeb3e92",
   "metadata": {},
   "source": [
    "<h1>Programmatically accessing 3DEP data using USGS 7.5' Quadrangles<h1>"
   ]
  },
  {
   "cell_type": "markdown",
   "id": "44ca8127",
   "metadata": {},
   "source": [
    "<h2>Table of Contents<span class=\"tocSkip\"></span></h2>\n",
    "<div class=\"toc\"><ul class=\"toc-item\"><li><span><a href=\"#Authors\" data-toc-modified-id=\"Authors-1\"><span class=\"toc-item-num\">1&nbsp;&nbsp;</span>Authors</a></span></li><li><span><a href=\"#Purpose\" data-toc-modified-id=\"Purpose-2\"><span class=\"toc-item-num\">2&nbsp;&nbsp;</span>Purpose</a></span></li><li><span><a href=\"#Funding\" data-toc-modified-id=\"Funding-3\"><span class=\"toc-item-num\">3&nbsp;&nbsp;</span>Funding</a></span></li><li><span><a href=\"#Keywords\" data-toc-modified-id=\"Keywords-4\"><span class=\"toc-item-num\">4&nbsp;&nbsp;</span>Keywords</a></span></li><li><span><a href=\"#Citation\" data-toc-modified-id=\"Citation-5\"><span class=\"toc-item-num\">5&nbsp;&nbsp;</span>Citation</a></span></li><li><span><a href=\"#Setup\" data-toc-modified-id=\"Setup-6\"><span class=\"toc-item-num\">6&nbsp;&nbsp;</span>Setup</a></span><ul class=\"toc-item\"><li><span><a href=\"#Library-Imports\" data-toc-modified-id=\"Library-Imports-6.1\"><span class=\"toc-item-num\">6.1&nbsp;&nbsp;</span>Library Imports</a></span><class=\"toc-item\"><li><span><a href=\"#Library-Imports\" data-toc-modified-id=\"Library-Imports-6.1\"><span class=\"toc-item-num\">6.1&nbsp;&nbsp;</span>Define Functions</a></span><class=\"toc-item\"><li><span><a href=\"#Define-Functions\" data-toc-modified-id=\"Define-Functions-6.2\"></a></span></li><li><span><a href=\"#Data-Access-and-Visualization\" data-toc-modified-id=\"Data-Access-and-Visualization-7\"><span class=\"toc-item-num\">7&nbsp;&nbsp;</span>Data Access and Visualization</a></span><ul class=\"toc-item\"></ul></li><li><span><a href=\"#Data-Processing\" data-toc-modified-id=\"Data-Processing-8\"><span class=\"toc-item-num\">8&nbsp;&nbsp;</span>Data Processing</a></span><ul class=\"toc-item\"></ul></li><li><span><a href=\"#Conclusion\" data-toc-modified-id=\"Conclusion-9\"><span class=\"toc-item-num\">9&nbsp;&nbsp;</span>Conclusion</a></span></li><li><span><a href=\"#Resources\" data-toc-modified-id=\"Resources-10\"><span class=\"toc-item-num\">10&nbsp;&nbsp;</span>Resources</a></span></li></ul></div>"
   ]
  },
  {
   "cell_type": "markdown",
   "id": "bae628a6",
   "metadata": {},
   "source": [
    "<h2>Authors</h2>\n",
    "<a id='#Authors'></a>\n",
    "\n",
    "<h2>Purpose</h2>\n",
    "<a id='#Purpose'></a>\n",
    "\n",
    "The 3-D Elevation Program (3DEP), managed by the U.S. Geological Survey (USGS) National Geospatial Program, is an ongoing effort to provide high-quality topographic data for the entire conterminous United States. There are currently over 1800 3DEP datasets consisting of >37 trillion individual points and covering an area of > 6 million $km^{2}$.\n",
    "\n",
    "While 3DEP data can be downloaded in the web browser from a variety of resources, it may benefit some users to programmatically access 3DEP point cloud data from a specific area of interest directly to their local directory. 3DEP data This notebook documents a workflow for accessing, processing, and visualizing data from the 3D Elevation Program (3DEP). The workflow capitalizes on available API and cloud resources allowing for highly compututationally expensive and intensive processes to be conducted and thereby not requiring high-end computational power from the user's local workstation.\n",
    "\n",
    "A 7.5 minute quadrangle map covers an area of 49 to 70 square miles (130 to 180 km2). ###Worth thinking about how many points will be within each quad in this case.\n",
    "\n",
    "\n",
    "This notebook includes two options for requesting 3DEP data using the USGS 7.5' Quadrangle footprints.\n",
    "\n",
    "```Option 1```: The user inputs a USGS 7.5' quad ID (can be found here: https://www.usgs.gov/faqs/where-can-i-find-indexes-usgs-topographic-maps) and requests the data within the quad footprint.\n",
    "\n",
    "```Option 2```: The user selects and area of interest (AOI) on an interactive map and requests the data within the quad(s) that overlay the user-defined AOI.\n",
    "\n",
    "This notebook is one of three notebooks developed in an effort to increase ease of access for those who prefer to programmatically access 3DEP data. See the main Jupyter Notebook-based workflows for accessing 3DEP data. \n",
    "\n",
    "<h2>Funding</h2>\n",
    "<a id='#Funding'></a>\n",
    "OpenTopography is supported by the National Science Foundation under Award Numbers 1948997, 1948994 & 1948857. Funding for 3DEP workflow developement entitled \"Enhancing usability of 3DEP data and web services with Jupyter notebooks\"  was provided through the Community for Data Integration (CDI).\n",
    "\n",
    "<h2>Keywords</h2>\n",
    "<a id='#Keywords'></a>\n",
    "\n",
    "keywords=[\"OpenTopography\",\"USGS\", \"3DEP\", \"PDAL\"]\n",
    "\n",
    "<h2>Citation</h2>\n"
   ]
  },
  {
   "cell_type": "markdown",
   "id": "72e09749",
   "metadata": {},
   "source": [
    "<h3>Library Imports</h3>\n",
    "<a id='#Library-Imports-6.1'></a>\n"
   ]
  },
  {
   "cell_type": "code",
   "execution_count": 2,
   "id": "a7fe2401",
   "metadata": {},
   "outputs": [],
   "source": [
    "import os\n",
    "import json\n",
    "import pdal\n",
    "import numpy as np\n",
    "import fiona\n",
    "import geopandas as gpd\n",
    "import ipyleaflet\n",
    "from ipyleaflet import Map, GeoJSON, basemaps, basemap_to_tiles, projections\n",
    "from osgeo import gdal\n",
    "from shapely.geometry import shape, Point, Polygon\n",
    "from shapely.ops import transform\n",
    "import requests\n",
    "import pyproj\n",
    "from pyproj.aoi import AreaOfInterest\n",
    "from pyproj.database import query_utm_crs_info\n",
    "from tqdm import tqdm\n",
    "import wget\n",
    "import zipfile\n",
    "import io"
   ]
  },
  {
   "cell_type": "markdown",
   "id": "ee6c6b02",
   "metadata": {},
   "source": [
    "<h3>Define Functions</h3>\n",
    "<a id='#Define-Functions-6.2'></a>\n",
    "\n",
    "The functions below are used throughout the rest of the notebook and are included here for clarity.\n",
    "\n",
    "```gcs_to_proj()``` is a function to project from geographic coordinates, WGS84 (EPSG: 4326), to Web Mercator projection (EPSG: 3857).\n",
    "\n",
    "```handle_draw()``` is a function for interactive drawing on ipyleaflet maps and storing the polygon for use in requesting point cloud data.\n",
    "\n",
    "```build_pdal_pipeline()``` is a function used to construct the pdal pipeline to request/process the point cloud data from AWS\n",
    "\n",
    "These functions can be modified as the user sees fit; however, they are designed to work 'out of the box'."
   ]
  },
  {
   "cell_type": "code",
   "execution_count": 3,
   "id": "36a80b06",
   "metadata": {},
   "outputs": [],
   "source": [
    "def gcs_to_proj(poly):\n",
    "    wgs84 = pyproj.CRS(\"EPSG:4326\")\n",
    "    web_mercator = pyproj.CRS(\"EPSG:3857\")\n",
    "    project = pyproj.Transformer.from_crs(wgs84, web_mercator, always_xy=True).transform\n",
    "    user_poly_proj3857 = transform(project, poly)\n",
    "    return(user_poly_proj3857)\n",
    "\n",
    "def handle_draw(target, action, geo_json):\n",
    "    geom = dict(geo_json['geometry'])\n",
    "    user_poly = shape(geom)\n",
    "    user_poly_proj3857 = gcs_to_proj(user_poly)\n",
    "    print('AOI is valid and has boundaries of ', user_poly_proj3857.bounds)\n",
    "    user_AOI.append((user_poly, user_poly_proj3857))  #for various reasons, we need user AOI in GCS and EPSG 3857\n",
    "\n",
    "def build_pdal_pipeline(extent_epsg3857, usgs_3dep_dataset_name, resolution, outname = 'test.laz'):\n",
    "    \n",
    "    '''\n",
    "    :param extent:\n",
    "    :param extent_epsg:\n",
    "    :param out_epsg:\n",
    "    :param usgs_survey_name:\n",
    "    :return:\n",
    "    '''\n",
    "   #reader = pdal.Reader.ept(url, polygon = AOI_EPSG3857_wtk, requests = 3)\n",
    "\n",
    "    filename = \"https://s3-us-west-2.amazonaws.com/usgs-lidar-public/{}/ept.json\".format(usgs_3dep_dataset_name)\n",
    "    \n",
    "    ### we could allow the user to reproject from Web Mercator (EPSG 3857) to any coordinate system\n",
    "    CRS = \"EPSG:{}\".format(out_epsg)\n",
    "\n",
    "    build_pipeline = {\"pipeline\": [\n",
    "        {\n",
    "            \"bounds\": str(ent_extent),\n",
    "            \"filename\": filename,\n",
    "            \"type\": \"readers.ept\",\n",
    "            \"tag\": \"readdata\"\n",
    "        },\n",
    "        {\n",
    "            \"limits\": \"Classification![7:7]\",\n",
    "            \"type\": \"filters.range\",\n",
    "            \"tag\": \"nonoise\"\n",
    "        }\n",
    "        \n",
    "        #outname\n",
    "    ]}\n",
    "\n",
    "    if not(pointResolution is None):\n",
    "        build_pipeline['pipeline'][0]['resolution'] = pointResolution\n",
    "\n",
    "#     build_pipeline = append_pointcloud_manipulation_pipeline(build_pipeline,extent,extent_epsg,out_epsg,filename,\n",
    "#                                                              grid_name,doReclassify,doSavePointCloud)\n",
    "\n",
    "    return build_pipeline"
   ]
  },
  {
   "cell_type": "code",
   "execution_count": 26,
   "id": "ecb4c9ce",
   "metadata": {},
   "outputs": [
    {
     "name": "stdout",
     "output_type": "stream",
     "text": [
      "projecting 3DEP polygons to web mercator (EPSG:3857)\n"
     ]
    },
    {
     "name": "stderr",
     "output_type": "stream",
     "text": [
      "100%|██████████████████████████████████████| 1807/1807 [00:08<00:00, 211.95it/s]\n",
      "/Users/cole/anaconda3/envs/pointcloud/lib/python3.10/site-packages/pandas/core/dtypes/cast.py:1981: ShapelyDeprecationWarning: __len__ for multi-part geometries is deprecated and will be removed in Shapely 2.0. Check the length of the `geoms` property instead to get the  number of parts of a multi-part geometry.\n",
      "  result[:] = values\n"
     ]
    }
   ],
   "source": [
    "url = 'https://raw.githubusercontent.com/hobuinc/usgs-lidar/master/boundaries/resources.geojson'\n",
    "r = requests.get(url)\n",
    "with open('resources.geojson', 'w') as f:\n",
    "    f.write(r.content.decode(\"utf-8\"))\n",
    "\n",
    "with open('resources.geojson', 'r') as f:\n",
    "    data = json.load(f)\n",
    "\n",
    "geo_json_3DEP = GeoJSON(data=data, style = {'color': 'green', 'opacity':1, \n",
    "                                       'weight':1.9, 'fillOpacity':0.1})\n",
    "\n",
    "with open('resources.geojson', 'r') as f:\n",
    "    df = gpd.read_file(f)\n",
    "\n",
    "projected_geoms = []\n",
    "\n",
    "print('projecting 3DEP polygons to web mercator (EPSG:3857)')\n",
    "for geometry in tqdm(df['geometry']):\n",
    "        projected_geoms.append(gcs_to_proj(geometry))\n",
    "\n",
    "df['geometry_epsg3857'] = projected_geoms\n",
    "geometries_GCS_3DEP = df['geometry']\n",
    "geometries_EPSG3857_3DEP = df['geometry_epsg3857']\n",
    "names = df['name']\n",
    "urls = df['url']\n",
    "num_points = df['count']"
   ]
  },
  {
   "cell_type": "code",
   "execution_count": 27,
   "id": "b2705aa5",
   "metadata": {},
   "outputs": [
    {
     "name": "stdout",
     "output_type": "stream",
     "text": [
      "Downloading USGS 7.5' quadrangle footprint shapefile...\n",
      "['quad24.dbf', 'quad24.shp', 'quad24.shx']\n"
     ]
    }
   ],
   "source": [
    "#download and unzip usgs 7.5 quadrangle footprints and save the files to a new directory called '\\tmp'\n",
    "if not os.path.exists('quad24.shp'):\n",
    "    quad_url = 'https://mrdata.usgs.gov/reference/quad24.zip'\n",
    "    local_path = 'tmp/'\n",
    "    print(\"Downloading USGS 7.5' quadrangle footprint shapefile...\")\n",
    "    r = requests.get(quad_url)\n",
    "    z = zipfile.ZipFile(io.BytesIO(r.content))\n",
    "    z.extractall(path=local_path) # extract to folder called tmp\n",
    "    filenames = [y for y in sorted(z.namelist()) for ending in ['dbf', 'shp', 'shx'] if y.endswith(ending)] \n",
    "    print(filenames)"
   ]
  },
  {
   "cell_type": "code",
   "execution_count": 28,
   "id": "3b955ec4",
   "metadata": {},
   "outputs": [
    {
     "data": {
      "text/html": [
       "<div>\n",
       "<style scoped>\n",
       "    .dataframe tbody tr th:only-of-type {\n",
       "        vertical-align: middle;\n",
       "    }\n",
       "\n",
       "    .dataframe tbody tr th {\n",
       "        vertical-align: top;\n",
       "    }\n",
       "\n",
       "    .dataframe thead th {\n",
       "        text-align: right;\n",
       "    }\n",
       "</style>\n",
       "<table border=\"1\" class=\"dataframe\">\n",
       "  <thead>\n",
       "    <tr style=\"text-align: right;\">\n",
       "      <th></th>\n",
       "      <th>QUAD24_ID</th>\n",
       "      <th>Q24CODE</th>\n",
       "      <th>Q100COD</th>\n",
       "      <th>Q250COD</th>\n",
       "      <th>QUAD24NAME</th>\n",
       "      <th>QUAD24NAM2</th>\n",
       "      <th>QUAD100NAM</th>\n",
       "      <th>QUAD250NAM</th>\n",
       "      <th>STATE1</th>\n",
       "      <th>STATE2</th>\n",
       "      <th>STATE3</th>\n",
       "      <th>STATE4</th>\n",
       "      <th>X</th>\n",
       "      <th>Y</th>\n",
       "      <th>AREA</th>\n",
       "      <th>CORNER</th>\n",
       "      <th>CELL</th>\n",
       "      <th>geometry</th>\n",
       "    </tr>\n",
       "  </thead>\n",
       "  <tbody>\n",
       "    <tr>\n",
       "      <th>0</th>\n",
       "      <td>1</td>\n",
       "      <td>49114NWF1</td>\n",
       "      <td>49114NW</td>\n",
       "      <td>49114</td>\n",
       "      <td>GOOSE LAKE</td>\n",
       "      <td>GOOSE LAKE, MT</td>\n",
       "      <td>SAINT MARY</td>\n",
       "      <td>CUT BANK</td>\n",
       "      <td>MT</td>\n",
       "      <td>None</td>\n",
       "      <td>None</td>\n",
       "      <td>None</td>\n",
       "      <td>-113.3125</td>\n",
       "      <td>48.9375</td>\n",
       "      <td>1.273105e+08</td>\n",
       "      <td>NW</td>\n",
       "      <td>F1</td>\n",
       "      <td>POLYGON ((-113.37500 49.00000, -113.25000 49.0...</td>\n",
       "    </tr>\n",
       "    <tr>\n",
       "      <th>1</th>\n",
       "      <td>2</td>\n",
       "      <td>49114NWG1</td>\n",
       "      <td>49114NW</td>\n",
       "      <td>49114</td>\n",
       "      <td>HALL COULEE</td>\n",
       "      <td>HALL COULEE, MT</td>\n",
       "      <td>SAINT MARY</td>\n",
       "      <td>CUT BANK</td>\n",
       "      <td>MT</td>\n",
       "      <td>None</td>\n",
       "      <td>None</td>\n",
       "      <td>None</td>\n",
       "      <td>-113.1875</td>\n",
       "      <td>48.9375</td>\n",
       "      <td>1.273067e+08</td>\n",
       "      <td>NW</td>\n",
       "      <td>G1</td>\n",
       "      <td>POLYGON ((-113.25000 49.00000, -113.12500 49.0...</td>\n",
       "    </tr>\n",
       "    <tr>\n",
       "      <th>2</th>\n",
       "      <td>3</td>\n",
       "      <td>49114NWH1</td>\n",
       "      <td>49114NW</td>\n",
       "      <td>49114</td>\n",
       "      <td>EMIGRANT GAP</td>\n",
       "      <td>EMIGRANT GAP, MT</td>\n",
       "      <td>SAINT MARY</td>\n",
       "      <td>CUT BANK</td>\n",
       "      <td>MT</td>\n",
       "      <td>None</td>\n",
       "      <td>None</td>\n",
       "      <td>None</td>\n",
       "      <td>-113.0625</td>\n",
       "      <td>48.9375</td>\n",
       "      <td>1.273067e+08</td>\n",
       "      <td>NW</td>\n",
       "      <td>H1</td>\n",
       "      <td>POLYGON ((-113.12500 49.00000, -113.00000 49.0...</td>\n",
       "    </tr>\n",
       "    <tr>\n",
       "      <th>3</th>\n",
       "      <td>4</td>\n",
       "      <td>49114NEA1</td>\n",
       "      <td>49114NE</td>\n",
       "      <td>49114</td>\n",
       "      <td>BUSHNELL HILL</td>\n",
       "      <td>BUSHNELL HILL, MT</td>\n",
       "      <td>CUT BANK</td>\n",
       "      <td>CUT BANK</td>\n",
       "      <td>MT</td>\n",
       "      <td>None</td>\n",
       "      <td>None</td>\n",
       "      <td>None</td>\n",
       "      <td>-112.9375</td>\n",
       "      <td>48.9375</td>\n",
       "      <td>1.273104e+08</td>\n",
       "      <td>NE</td>\n",
       "      <td>A1</td>\n",
       "      <td>POLYGON ((-113.00000 49.00000, -112.87500 49.0...</td>\n",
       "    </tr>\n",
       "    <tr>\n",
       "      <th>4</th>\n",
       "      <td>5</td>\n",
       "      <td>49114NEB1</td>\n",
       "      <td>49114NE</td>\n",
       "      <td>49114</td>\n",
       "      <td>DEL BONITA</td>\n",
       "      <td>DEL BONITA, MT</td>\n",
       "      <td>CUT BANK</td>\n",
       "      <td>CUT BANK</td>\n",
       "      <td>MT</td>\n",
       "      <td>None</td>\n",
       "      <td>None</td>\n",
       "      <td>None</td>\n",
       "      <td>-112.8125</td>\n",
       "      <td>48.9375</td>\n",
       "      <td>1.273102e+08</td>\n",
       "      <td>NE</td>\n",
       "      <td>B1</td>\n",
       "      <td>POLYGON ((-112.87500 49.00000, -112.75000 49.0...</td>\n",
       "    </tr>\n",
       "  </tbody>\n",
       "</table>\n",
       "</div>"
      ],
      "text/plain": [
       "   QUAD24_ID    Q24CODE  Q100COD Q250COD     QUAD24NAME         QUAD24NAM2  \\\n",
       "0          1  49114NWF1  49114NW   49114     GOOSE LAKE     GOOSE LAKE, MT   \n",
       "1          2  49114NWG1  49114NW   49114    HALL COULEE    HALL COULEE, MT   \n",
       "2          3  49114NWH1  49114NW   49114   EMIGRANT GAP   EMIGRANT GAP, MT   \n",
       "3          4  49114NEA1  49114NE   49114  BUSHNELL HILL  BUSHNELL HILL, MT   \n",
       "4          5  49114NEB1  49114NE   49114     DEL BONITA     DEL BONITA, MT   \n",
       "\n",
       "   QUAD100NAM QUAD250NAM STATE1 STATE2 STATE3 STATE4         X        Y  \\\n",
       "0  SAINT MARY   CUT BANK     MT   None   None   None -113.3125  48.9375   \n",
       "1  SAINT MARY   CUT BANK     MT   None   None   None -113.1875  48.9375   \n",
       "2  SAINT MARY   CUT BANK     MT   None   None   None -113.0625  48.9375   \n",
       "3    CUT BANK   CUT BANK     MT   None   None   None -112.9375  48.9375   \n",
       "4    CUT BANK   CUT BANK     MT   None   None   None -112.8125  48.9375   \n",
       "\n",
       "           AREA CORNER CELL                                           geometry  \n",
       "0  1.273105e+08     NW   F1  POLYGON ((-113.37500 49.00000, -113.25000 49.0...  \n",
       "1  1.273067e+08     NW   G1  POLYGON ((-113.25000 49.00000, -113.12500 49.0...  \n",
       "2  1.273067e+08     NW   H1  POLYGON ((-113.12500 49.00000, -113.00000 49.0...  \n",
       "3  1.273104e+08     NE   A1  POLYGON ((-113.00000 49.00000, -112.87500 49.0...  \n",
       "4  1.273102e+08     NE   B1  POLYGON ((-112.87500 49.00000, -112.75000 49.0...  "
      ]
     },
     "execution_count": 28,
     "metadata": {},
     "output_type": "execute_result"
    }
   ],
   "source": [
    "#make geopandas dataframe from the shapefile and inspect\n",
    "dbf, shp, shx = [filename for filename in filenames]\n",
    "quads = gpd.read_file(local_path + shp)\n",
    "quads_ID = quads['QUAD24_ID']\n",
    "geometries_GCS_quads = quads['geometry']\n",
    "quads.head() #first 5 records in dataframe"
   ]
  },
  {
   "cell_type": "markdown",
   "id": "4ddf757a",
   "metadata": {},
   "source": [
    "Note the column headings, specifically the ```QUAD24ID```, ```QUAD24NAME```, and ```geometry``` columns. The geometry is currently in geographic coordinate system WGS84 (EPSG: 4326). These will need to be reprojected to Web Mercator (EPSG: 3857), which is the projected coordinate system of the 3DEP EPT Tiles hosted in the Amazon bucket. Below the shapefile is converted to a GeoJSON format, and the reprojection happens in a subsequent cell. The below cell may raise a warning related to the pandas use of Int65Index, but it should not cause issues."
   ]
  },
  {
   "cell_type": "code",
   "execution_count": 29,
   "id": "585b452a",
   "metadata": {},
   "outputs": [
    {
     "name": "stderr",
     "output_type": "stream",
     "text": [
      "/Users/cole/anaconda3/envs/pointcloud/lib/python3.10/site-packages/geopandas/io/file.py:362: FutureWarning: pandas.Int64Index is deprecated and will be removed from pandas in a future version. Use pandas.Index with the appropriate dtype instead.\n",
      "  pd.Int64Index,\n"
     ]
    }
   ],
   "source": [
    "#convert gpd dataframe to GeoJSON format\n",
    "quads.to_file('usgs_quadrangles.geojson', driver='GeoJSON')\n",
    "\n",
    "with open('usgs_quadrangles.geojson', 'r') as f:\n",
    "    data = json.load(f)\n",
    "    \n",
    "quads_geojson = GeoJSON(data=data, style = {'color': 'green', 'opacity':1, \n",
    "                                       'weight':1.9, 'fillOpacity':0.1})"
   ]
  },
  {
   "cell_type": "markdown",
   "id": "dc47b070",
   "metadata": {},
   "source": [
    "All cells up to this point are required for both ```Option 1``` and ```Option 2```. \n",
    "<br>Based on the User's desired output, proceed with either ```Option 1``` or ```Option 2``` below."
   ]
  },
  {
   "cell_type": "markdown",
   "id": "2a990573",
   "metadata": {},
   "source": [
    "### Option 1 - User inputs USGS 7.5 Quadrangle ID (e.g., 35000)"
   ]
  },
  {
   "cell_type": "markdown",
   "id": "7e75211c",
   "metadata": {},
   "source": [
    "Enter Quadrangle ID below. If the user does not know the QuadID for their area of interest, an interactive map to find the ID can be accessed here: https://www.usgs.gov/faqs/where-can-i-find-indexes-usgs-topographic-maps)"
   ]
  },
  {
   "cell_type": "code",
   "execution_count": 37,
   "id": "c48b230e",
   "metadata": {},
   "outputs": [],
   "source": [
    "# Default QuadID 35000, which overlaps with an existing 3DEP datset. NOTE: Not all Quads overlap 3DEP data currently.\n",
    "quad_ID = '47260'"
   ]
  },
  {
   "cell_type": "code",
   "execution_count": 38,
   "id": "943dcabb",
   "metadata": {},
   "outputs": [],
   "source": [
    "# Required steps to get the geometry of the user-defined quad and make necessary projections\n",
    "user_quad = quads.loc[quads['QUAD24_ID'] == int(quad_ID)]  # Find quad record in geodataframe \n",
    "user_quad_geom_GCS = user_quad['geometry'][user_quad.index[0]] # User-selected quad geometry in geographic coords\n",
    "user_quad_GCS_wtk = user_quad_geom_GCS.wkt + f\" / EPSG:4326\" # Make WTK layer from geometry\n",
    "user_quad_geom_EPSG3857 = gcs_to_proj(user_quad_geom_GCS)   # Reproject the footprint to EPSG:3857\n",
    "user_quad_epsg3857_wtk = user_quad_geom_EPSG3857.wkt + f\" / EPSG:3857\" #Make WTK layer from projected geometry"
   ]
  },
  {
   "cell_type": "markdown",
   "id": "fef61dfa",
   "metadata": {},
   "source": [
    "Now the quadrangle footprint with the selected ```QUAD24_ID``` as well the 3DEP dataset polygons are added to an interactive ipyleaflet map for visual inspection."
   ]
  },
  {
   "cell_type": "code",
   "execution_count": 39,
   "id": "12630ff3",
   "metadata": {},
   "outputs": [
    {
     "name": "stdout",
     "output_type": "stream",
     "text": [
      "Quadrangle 47260 overlaps the USGS 3DEP dataset with name USGS_LPC_TX_West_Central_B2_2018_LAS_2019 . You may proceed.\n"
     ]
    },
    {
     "data": {
      "application/vnd.jupyter.widget-view+json": {
       "model_id": "31095bfbe738441d97a397802d786379",
       "version_major": 2,
       "version_minor": 0
      },
      "text/plain": [
       "Map(center=[33.56249919495092, -101.9374997498912], controls=(ZoomControl(options=['position', 'zoom_in_text',…"
      ]
     },
     "metadata": {},
     "output_type": "display_data"
    }
   ],
   "source": [
    "quad_centroid =  list(user_quad_geom_GCS.centroid.coords)[0]\n",
    "\n",
    "m = Map(\n",
    "    basemap=basemaps.Esri.WorldTopoMap,\n",
    "    center=(quad_centroid[1], quad_centroid[0]),\n",
    "    zoom=10,\n",
    "    crs=projections.EPSG3857\n",
    "    )\n",
    "\n",
    "wlayer_quad = ipyleaflet.WKTLayer(\n",
    "    wkt_string=user_quad_geom_GCS.boundary.wkt,\n",
    "    style={\"color\": \"blue\"}\n",
    ")\n",
    "\n",
    "m.add_layer(geo_json_3DEP)  #add 3DEP polygons GeoJSON\n",
    "m.add_layer(wlayer_quad)\n",
    "\n",
    "#determine if your quad overlaps one of the existing 3DEP datasets\n",
    "intersecting_polys = []\n",
    "overlap = False\n",
    "for i,geom in enumerate(geometries_EPSG3857_3DEP):\n",
    "    if geom.intersects(user_quad_geom_EPSG3857):\n",
    "        intersecting_polys.append((names[i], geometries_GCS_3DEP[i], geometries_EPSG3857_3DEP[i], urls[i], num_points[i]))\n",
    "        overlap = True\n",
    "\n",
    "if overlap == True:\n",
    "    print(\"Quadrangle\", quad_ID, \"overlaps the USGS 3DEP dataset with name\", intersecting_polys[0][0], \n",
    "          \". You may proceed.\")\n",
    "    \n",
    "else:\n",
    "    print(\"Quad\", quad_ID, \"doesn't overlap with any USGS 3DEP datasets at this time.\")\n",
    "m"
   ]
  },
  {
   "cell_type": "code",
   "execution_count": null,
   "id": "21f399a9",
   "metadata": {},
   "outputs": [],
   "source": [
    "url = intersecting_polys[0][3]\n",
    "OUTPUT_RESOLUTION = 2.0\n",
    "READ_RESOLUTION = 2.0"
   ]
  },
  {
   "cell_type": "code",
   "execution_count": null,
   "id": "87c7399f",
   "metadata": {},
   "outputs": [],
   "source": [
    "### Reader ###\n",
    "readers = []\n",
    "reader = pdal.Reader.ept(url, polygon = user_quad_epsg3857_wtk, requests = 3)\n",
    "readers.append(reader)"
   ]
  },
  {
   "cell_type": "code",
   "execution_count": null,
   "id": "b8430e49",
   "metadata": {},
   "outputs": [],
   "source": [
    "writer = pdal.Writer.las(\n",
    "    compression = \"laszip\",\n",
    "    filename = \"test.laz\"\n",
    ")"
   ]
  },
  {
   "cell_type": "code",
   "execution_count": null,
   "id": "e50b1d19",
   "metadata": {},
   "outputs": [],
   "source": [
    "pipeline = reader | writer"
   ]
  },
  {
   "cell_type": "code",
   "execution_count": null,
   "id": "99bc468d",
   "metadata": {},
   "outputs": [],
   "source": [
    "%%time\n",
    "\n",
    "# Use streaming mode at 1e6 points at a time. This\n",
    "# helps us conserve memory for pipelines that are streamable\n",
    "# check that with the pipeline.streamable property\n",
    "results = pipeline.execute_streaming(chunk_size=1000000)\n",
    "print(pipeline.log)\n"
   ]
  },
  {
   "cell_type": "markdown",
   "id": "eb80dae3",
   "metadata": {},
   "source": [
    "### Option 2: Use the user-defined AOI to find the intersecting quad(s) "
   ]
  },
  {
   "cell_type": "markdown",
   "id": "2a496012",
   "metadata": {},
   "source": [
    "Make iPyLeaflet map for interactive drawing of user-defined AOI\n"
   ]
  },
  {
   "cell_type": "code",
   "execution_count": 33,
   "id": "02cfb733",
   "metadata": {},
   "outputs": [
    {
     "name": "stdout",
     "output_type": "stream",
     "text": [
      "Select an Area of Interest where you would like USGS 7.5' quadrangle(s) using the tools on the left side of the map\n"
     ]
    },
    {
     "data": {
      "application/vnd.jupyter.widget-view+json": {
       "model_id": "ae04b071ef91456992c100e1672566d1",
       "version_major": 2,
       "version_minor": 0
      },
      "text/plain": [
       "Map(center=[39, -100], controls=(ZoomControl(options=['position', 'zoom_in_text', 'zoom_in_title', 'zoom_out_t…"
      ]
     },
     "metadata": {},
     "output_type": "display_data"
    },
    {
     "name": "stdout",
     "output_type": "stream",
     "text": [
      "AOI is valid and has boundaries of  (-11348418.62341465, 3960477.827111507, -11340801.809896102, 3965914.767981327)\n"
     ]
    }
   ],
   "source": [
    "m = Map(\n",
    "    basemap=basemaps.Esri.WorldTopoMap,\n",
    "    center=(39, -100),\n",
    "    zoom=3,\n",
    "    crs=projections.EPSG3857\n",
    "    )\n",
    "\n",
    "m.add_layer(geo_json_3DEP)  #add 3DEP polygons GeoJSON\n",
    "\n",
    "dc = ipyleaflet.DrawControl(\n",
    "    marker={\"shapeOptions\": {\"color\": \"#0000FF\"}},\n",
    "    rectangle={\"shapeOptions\": {\"color\": \"#0000FF\"}},\n",
    "    circle={\"shapeOptions\": {\"color\": \"#0000FF\"}},\n",
    "    circlemarker={},\n",
    ")\n",
    "### add to this map the quad polygons \n",
    "print(\"Select an Area of Interest where you would like USGS 7.5' quadrangle(s) using the tools on the left side of the map\")\n",
    "user_AOI = []\n",
    "dc.on_draw(handle_draw)\n",
    "m.add_control(dc)\n",
    "m"
   ]
  },
  {
   "cell_type": "code",
   "execution_count": 34,
   "id": "c8f8e6bb",
   "metadata": {},
   "outputs": [],
   "source": [
    "# Find intersecting quad(s) with the user AOI\n",
    "AOI_GCS = user_AOI[0][0]\n",
    "AOI_EPSG3857 = user_AOI[0][1]\n",
    "\n",
    "intersecting_userAOI_quads = []\n",
    "for i,geom in enumerate(geometries_GCS_quads):\n",
    "    if geom.intersects(AOI_GCS):\n",
    "        intersecting_userAOI_quads.append((quads_ID[i], geometries_GCS_quads[i]))\n",
    "\n",
    "# Find intersecting 3DEP datasets with the quads\n",
    "intersecting_quads_3DEP = []\n",
    "\n",
    "for i, geom in enumerate(geometries_GCS_3DEP):\n",
    "    for quad in intersecting_userAOI_quads:\n",
    "        if geom.intersects(quad[1]):\n",
    "            intersecting_quads_3DEP.append((names[i], geometries_GCS_3DEP[i], geometries_EPSG3857_3DEP[i],\n",
    "                                            urls[i], num_points[i]))\n"
   ]
  },
  {
   "cell_type": "code",
   "execution_count": 61,
   "id": "e88e8d27",
   "metadata": {},
   "outputs": [],
   "source": []
  },
  {
   "cell_type": "code",
   "execution_count": 63,
   "id": "886bc514",
   "metadata": {},
   "outputs": [
    {
     "data": {
      "text/plain": [
       "1307034361"
      ]
     },
     "execution_count": 63,
     "metadata": {},
     "output_type": "execute_result"
    }
   ],
   "source": [
    "area_quad = quads['AREA'][0]\n",
    "area_3dep = intersecting_quads_3DEP[2][2].area\n",
    "total_num_points = intersecting_quads_3DEP[2][4]\n",
    "num_pts_est = int((area_quad/area_3dep)*(total_num_points))\n",
    "num_pts_est"
   ]
  },
  {
   "cell_type": "code",
   "execution_count": 40,
   "id": "29f94120",
   "metadata": {},
   "outputs": [
    {
     "data": {
      "text/plain": [
       "[('USGS_LPC_TX_West_Central_B2_2018_LAS_2019',\n",
       "  <shapely.geometry.multipolygon.MultiPolygon at 0x1783e1480>,\n",
       "  <shapely.geometry.multipolygon.MultiPolygon at 0x178018400>,\n",
       "  'https://s3-us-west-2.amazonaws.com/usgs-lidar-public/USGS_LPC_TX_West_Central_B2_2018_LAS_2019/ept.json',\n",
       "  29302046820),\n",
       " ('USGS_LPC_TX_West_Central_B2_2018_LAS_2019',\n",
       "  <shapely.geometry.multipolygon.MultiPolygon at 0x1783e1480>,\n",
       "  <shapely.geometry.multipolygon.MultiPolygon at 0x178018400>,\n",
       "  'https://s3-us-west-2.amazonaws.com/usgs-lidar-public/USGS_LPC_TX_West_Central_B2_2018_LAS_2019/ept.json',\n",
       "  29302046820),\n",
       " ('USGS_LPC_TX_West_Central_B5_2018',\n",
       "  <shapely.geometry.multipolygon.MultiPolygon at 0x1783e15a0>,\n",
       "  <shapely.geometry.multipolygon.MultiPolygon at 0x178018640>,\n",
       "  'https://s3-us-west-2.amazonaws.com/usgs-lidar-public/USGS_LPC_TX_West_Central_B5_2018/ept.json',\n",
       "  93951790440),\n",
       " ('USGS_LPC_TX_West_Central_B5_2018',\n",
       "  <shapely.geometry.multipolygon.MultiPolygon at 0x1783e15a0>,\n",
       "  <shapely.geometry.multipolygon.MultiPolygon at 0x178018640>,\n",
       "  'https://s3-us-west-2.amazonaws.com/usgs-lidar-public/USGS_LPC_TX_West_Central_B5_2018/ept.json',\n",
       "  93951790440)]"
      ]
     },
     "execution_count": 40,
     "metadata": {},
     "output_type": "execute_result"
    }
   ],
   "source": [
    "intersecting_quads_3DEP"
   ]
  },
  {
   "cell_type": "code",
   "execution_count": null,
   "id": "112bde5e",
   "metadata": {},
   "outputs": [],
   "source": [
    "### Map of the quads that intersect - Which would you like? Have hover-over for polygon selection"
   ]
  },
  {
   "cell_type": "code",
   "execution_count": null,
   "id": "a9900d4e",
   "metadata": {},
   "outputs": [],
   "source": [
    "### Construct pipeline \n"
   ]
  }
 ],
 "metadata": {
  "kernelspec": {
   "display_name": "pointcloud",
   "language": "python",
   "name": "pointcloud"
  },
  "language_info": {
   "codemirror_mode": {
    "name": "ipython",
    "version": 3
   },
   "file_extension": ".py",
   "mimetype": "text/x-python",
   "name": "python",
   "nbconvert_exporter": "python",
   "pygments_lexer": "ipython3",
   "version": "3.10.4"
  }
 },
 "nbformat": 4,
 "nbformat_minor": 5
}
