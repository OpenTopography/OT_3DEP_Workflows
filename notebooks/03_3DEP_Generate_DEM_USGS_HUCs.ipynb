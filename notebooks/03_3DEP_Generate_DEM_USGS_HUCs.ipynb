{
 "cells": [
  {
   "cell_type": "markdown",
   "id": "turkish-orchestra",
   "metadata": {
    "VoilaConfiguration": {
     "show_tracebacks": true
    }
   },
   "source": [
    "# Generate and visualize DEMs (DTM and DSM) from USGS 3D Elevation Program (3DEP) lidar data for USGS Hydrologic Units"
   ]
  },
  {
   "cell_type": "markdown",
   "id": "4db3b420",
   "metadata": {},
   "source": [
    "<h2>Table of Contents<span class=\"tocSkip\"></span></h2>\n",
    "<div class=\"toc\"><ul class=\"toc-item\"><li><span><a href=\"#Authors\" data-toc-modified-id=\"Authors-1\"><span class=\"toc-item-num\">1&nbsp;&nbsp;</span>Authors</a></span></li><li><span><a href=\"#Purpose\" data-toc-modified-id=\"Purpose-2\"><span class=\"toc-item-num\">2&nbsp;&nbsp;</span>Purpose</a></span></li><li><span><a href=\"#Funding\" data-toc-modified-id=\"Funding-3\"><span class=\"toc-item-num\">3&nbsp;&nbsp;</span>Funding</a></span></li><li><span><a href=\"#Keywords\" data-toc-modified-id=\"Keywords-4\"><span class=\"toc-item-num\">4&nbsp;&nbsp;</span>Keywords</a></span></li><li><span><a href=\"#Citation\" data-toc-modified-id=\"Citation-5\"><span class=\"toc-item-num\">5&nbsp;&nbsp;</span>Citation</a></span></li><li><span><a href=\"#Setup\" data-toc-modified-id=\"Setup-6\"><span class=\"toc-item-num\">6&nbsp;&nbsp;</span>Setup</a></span><ul class=\"toc-item\">\n",
    "<li><span><a href=\"#Installation-Options\" data-toc-modified-id=\"Installation-Options-6.1\"><span class=\"toc-item-num\">6.1&nbsp;&nbsp;</span>Installation Options</a></span><ul class=\"toc-item\"><li><span><a href=\"#Option-1:-Install-and-run-on-Google-Colaboratory\" data-toc-modified-id=\"Option-1:-Install-and-run-on-Google-Colaboratory-6.1.1\"><span class=\"toc-item-num\">6.1.1&nbsp;&nbsp;</span>Option 1: Install and run on Google Colaboratory</a></span></li><li><span><a href=\"#Option-2:-Install-and-run-on-local-file-system\" data-toc-modified-id=\"Option-2:-Install-and-run-on-local-file-system-6.1.2\"><span class=\"toc-item-num\">6.1.2&nbsp;&nbsp;</span>Option 2: Install and run on local file system</a></span></ul></li><li><span><a href=\"#Library-Imports\" data-toc-modified-id=\"Library-Imports-6.2\"><span class=\"toc-item-num\">6.2&nbsp;&nbsp;</span>Library Imports</a></span></li><li><span><a href=\"#Define-Functions\" data-toc-modified-id=\"Define-Functions-6.3\"><span class=\"toc-item-num\">6.3&nbsp;&nbsp;</span>Define Functions</a></span></ul></li><li><span><a href=\"#Data-Access-and-Processing\" data-toc-modified-id=\"Data-Access-and-Processing-7\"><span class=\"toc-item-num\">7&nbsp;&nbsp;</span>Data Access and Processing</a></span><ul class=\"toc-item\"><li><span><a href=\"#Get-3DEP-Dataset-Boundary-Polygons\" data-toc-modified-id=\"Get-3DEP-Dataset-Boundary-Polygons-7.1\"><span class=\"toc-item-num\">7.1&nbsp;&nbsp;</span>Get 3DEP Dataset Boundary Polygons</a></span></li><li><span><a href=\"#Create-Interactive-Ipyleaflet-Map-and-Define-the-Location-of-the-Watershed-for-3DEP-Query\" data-toc-modified-id=\"Create-Interactive-Ipyleaflet-Map-and-Define-the-Location-of-the-Watershed-for-3DEP-Query-7.2\"><span class=\"toc-item-num\">7.2&nbsp;&nbsp;</span> Create Interactive Ipyleaflet Map and Define the Location of the Watershed for 3DEP Query</a></span></li><li><span><a href=\"#Query-the-USGS-Watershed-Boundary-Service\" data-toc-modified-id=\"Query-the-USGS-Watershed-Boundary-Service-7.3\"><span class=\"toc-item-num\">7.3&nbsp;&nbsp;</span>Query the USGS Watershed Boundary Service</a></span></li><li><span><a href=\"#Find-3DEP-Polygon(s)-Intersecting-AOI\" data-toc-modified-id=\"Find-3DEP-Polygon(s)-Intersecting-AOI-7.4\"><span class=\"toc-item-num\">7.4&nbsp;&nbsp;</span>Find 3DEP Polygon(s) Intersecting AOI</a></span></li><li><span><a href=\"#Specify-Point-Cloud-Resolution\" data-toc-modified-id=\"Specify-Point-Cloud-Resolution-7.5\"><span class=\"toc-item-num\">7.5&nbsp;&nbsp;</span>Specify Point Cloud Resolution</a></span></li><li><span><a href=\"#Construct-and-Exectute-PDAL-Pipeline-for-Point-Cloud-Data\" data-toc-modified-id=\"Construct-and-Exectute-PDAL-Pipeline-for-Point-Cloud-Data-7.6\"><span class=\"toc-item-num\">7.6&nbsp;&nbsp;</span>Construct and Exectute PDAL Pipeline for Point Cloud Data</a></span></li><li><span><a href=\"#Digital-Elevation-Model-(DEM)-Generation\" data-toc-modified-id=\"Digital-Elevation-Model-(DEM)-Generation-7.7\"><span class=\"toc-item-num\">7.7&nbsp;&nbsp;</span>Digital Elevation Model (DEM) Generation</a></span></li><ul class=\"toc-item\"><li><span><a href=\"#Make-Digital-Surface-Model-(DSM)\" data-toc-modified-id=\"Make-Digital-Surface-Model-(DSM)-7.7.1\"><span class=\"toc-item-num\">7.7.1&nbsp;&nbsp;</span>Make Digital Surface Model (DSM)</a></span></li><li><span><a href=\"#Make-Digital-Terrain-Model-(DTM)\" data-toc-modified-id=\"Make-Digital-Terrain-Model-(DTM)-7.7.2\"><span class=\"toc-item-num\">7.7.2&nbsp;&nbsp;</span>Make Digital Terrain Model (DTM)</a></span></ul></ul></li><li><span><a href=\"#Data-Visualization\" data-toc-modified-id=\"Data-Visualization-8\"><span class=\"toc-item-num\">8&nbsp;&nbsp;</span>Data Visualization</a></span><ul class=\"toc-item\"><li><span><a href=\"#Visualize-DEMs-(DSM/DTM)\" data-toc-modified-id=\"Visualize-DEMs-(DSM/DTM)-8.1\"><span class=\"toc-item-num\">8.1&nbsp;&nbsp;</span>Visualize DEMs (DSM/DTM)</a></span></ul></li><li><span><a href=\"#Conclusion\" data-toc-modified-id=\"Conclusion-9\"><span class=\"toc-item-num\">9&nbsp;&nbsp;</span>Conclusion</a></span></li><li><span><a href=\"#Resources\" data-toc-modified-id=\"Resources-10\"><span class=\"toc-item-num\">10&nbsp;&nbsp;</span>Resources</a></span></li>"
   ]
  },
  {
   "cell_type": "markdown",
   "id": "49632d18",
   "metadata": {},
   "source": [
    "## Authors\n",
    "\n",
    "-  Author1 = {\"name\": \"Cole Speed\", \"affiliation\": \"UNAVCO, Inc.\", \"email\": \"cole.speed@beg.utexas.edu\", \"orcid\": \"https://orcid.org/0000-0003-0166-3642\"}\n",
    "-  Author2 = {\"name\": \"Matthew Beckley\", \"affiliation\": \"UNAVCO, Inc.\", \"email\": \"beckley@unavco.org\", \"orcid\":\"\"}\n",
    "-  Author3 = {\"name\": \"Christopher Crosby\", \"affiliation\": \"UNAVCO, Inc.\", \"email\": \"crosby@unavco.org\", \"orcid\": \"https://orcid.org/0000-0003-2522-4193\"}\n",
    "-  Author4 = {\"name\": \"Viswanath Nandigam\", \"affiliation\": \"San Diego Supercomputer Center, UC San Diego\", \"email\": \"viswanat@sdsc.edu\", \"orcid\": \"https://orcid.org/0000-0003-0928-9851\"}\n",
    "    \n",
    "## Purpose\n",
    "\n",
    "The United States Geological Survey's 3-D Elevation Program (3DEP) is collecting high-quality light detection and ranging (lidar) data over the conterminous U.S., Hawaii, and the U.S territories. Data acquisition is ongoing, with over 1800 3DEP datasets consisting of more than 42 trillion points covering an area of greater than 6.5 million $km^{2}$ already available for use. Data are hosted and publically available in Entwine Point Tile (EPT) format in an<a href=\"https://registry.opendata.aws/usgs-lidar/\"> Amazon Web Services (AWS) S3 public bucket</a>.\n",
    "\n",
    "3DEP point cloud data can be accessed through several user interfaces including the <a href=\"https://portal.opentopography.org/datasets\">OpenTopography Data Portal</a> and the <a href=\"https://prd-tnm.s3.amazonaws.com/LidarExplorer/index.html#/process\">USGS Lidar Explorer</a>. In many cases, however, users may prefer to access and produce derivative products from the 3DEP lidar data programmatically, particularly in the case of more advanced users seeking to access and process immense swaths of lidar point cloud data on local, commercial cloud, or high performance compute infrastructure. However, to date tools and/or workflows for programmatic access and processing of the 3DEP data remain underdeveloped.\n",
    "\n",
    "This Jupyter Notebook is part of a suite developed by OpenTopography in collaboration with the USGS National Geospatial Program, in an effort to leverage available APIs and cloud resources to enhance access and usability of 3DEP data and products for the geospatial community. Importantly, these notebooks are designed to be accessible by user's with limited experience in the Python programming language and as educational tools for those looking to learn about accessing, processing, and visualizing cloud-hosted data with Python. These notebooks use open-source Python libraries, including the Point Data Abstraction Libary (PDAL) and Geospatial Data Abstraction Library (GDAL) for all point cloud and raster processing. \n",
    "\n",
    "This and the other use-case specific Jupyter Notebooks developed as part of this effort for programmatic 3DEP access are available in a <a href=\"https://github.com/cmspeed/OT_3DEP_Workflows\"> Github repository </a> and may be run locally or on the <a href=\"https://colab.research.google.com/\">Google Colaboratory</a> cloud platform.\n",
    "\n",
    "#### Specific features of this notebook\n",
    "\n",
    "1. User selects a point location on an interactive map and the corresponding USGS 12-digit (Sub-watershed) or 14-digit hydrologic unit (HU) is requested via the <a href= \"https://hydro.nationalmap.gov/arcgis/rest/services/wbd/MapServer/\"> USGS Watershed Boundary Dataset Map Service </a>.\n",
    "\n",
    "2. API request to <a href=\"https://registry.opendata.aws/usgs-lidar/\"> Amazon Web Services (AWS) EPT (Entwine Point Tile) S3 bucket</a> returns 3DEP point cloud data within user-defined 12- or 14-digit hydrologic unit (HU) for subsequent processing. \n",
    "\n",
    "3. Flexible and customizable PDAL pipelines are available for specifying point cloud resolution, filtering, reclassifying, and reprojecting points.\n",
    "\n",
    "4. Option to create a Digital Terrain Model (DTM) or Digital Surface Model (DSM) for the hydrologic unit with user-specifed resolution, gridding method, and file type.\n",
    "\n",
    "5. Point cloud data and/or derivative products are saved to local directory or on Google Drive (if user uses Google Colaboratory option, see below.)\n",
    "    \n",
    "## Funding\n",
    "\n",
    "Funding for the creation and distribution of these Jupyter Notebook-based workflows was provided as by the <a href=\"https://www.usgs.gov/centers/community-for-data-integration-cdi\">USGS Community for Data Integration (CDI)</a> through the funded grant <a href=\"https://www.usgs.gov/centers/community-for-data-integration-cdi/science/enhancing-usability-3dep-data-and-web-services\"> *Enhancing usability of 3DEP data and web services with Jupyter notebooks*</a>. OpenTopography is supported by the National Science Foundation (NSF) under Award Numbers <a href=\"https://nsf.gov/awardsearch/showAward?AWD_ID=1948997\">1948997</a>, <a href=\"https://nsf.gov/awardsearch/showAward?AWD_ID=1948994\">1948994</a> & <a href =\"https://nsf.gov/awardsearch/showAward?AWD_ID=1948857\">1948857</a>.\n",
    "\n",
    "## Keywords\n",
    "\n",
    "keywords=[\"OpenTopography\",\"USGS\", \"CDI\", \"3DEP\", \"PDAL\", \"Watersheds\"]\n",
    "\n",
    "## Citation\n",
    "To cite this notebook:  Speed, C., Beckley, M., Crosby, C., & Nandigam, V. (2022). # Generate and visualize DEMs (DTM and DSM) from USGS 3D Elevation Program (3DEP) lidar data for USGS Hydrologic Units (Version v1.0). DOI: Accessed: MM/DD/YYYY"
   ]
  },
  {
   "cell_type": "markdown",
   "id": "f83dbc2a",
   "metadata": {},
   "source": [
    "## Setup"
   ]
  },
  {
   "cell_type": "markdown",
   "id": "25e20850",
   "metadata": {},
   "source": [
    "### Installation Options\n",
    "There are two options for performing the workflow steps outlined below. **Option 1** is our suggested method for simplicity, as building a virtual environment with the required dependencies on the user's local file system can be challenging based on the user's experience level with Python and <a href=\"https://www.anaconda.com/\"> Anaconda</a>.\n",
    "\n",
    "1. **Option 1**: Launch the interactive Jupyter notebook on Google Colaboratory.\n",
    "    - Does not require creation of a virtual environment or installation on local file system.\n",
    "    - Requires Google account and access to personal Google Drive folder.\n",
    "    - Data download limits will be dependent on user's available Google Drive storage. \n",
    "    - If you wish to run this notebook in Google Colaboratory click the 'Open in Colab' badge below. \n",
    "    <br/><br/>\n",
    "2. **Option 2**: Download this Jupyter notebook (.ipynb file) to your local file system.\n",
    "    - Create a virtual conda environment containing the required dependencies.\n",
    "    - Run Juypter notebook on local machine.\n",
    "    - Data download limits and computation speed will be dependent on user's hardware."
   ]
  },
  {
   "cell_type": "markdown",
   "id": "33fa4314",
   "metadata": {},
   "source": [
    "### Option 1: Install and run on Google Colaboratory\n",
    "For ease-of-use, it is suggested to launch and execute these notebooks on <a href=\"https://colab.research.google.com/\">Google Colaboratory</a> (Colab, for short), Google's Cloud Platform. Dependencies will be installed on a virtual machine on Google's cloud servers and the code will be executed directly in your browser! A major benefit of this is that you will have direct access to Google's high-end CPU/GPUs and will not have to install any dependencies locally. All deliverables will be saved to your personal Google Drive. To experiment and run one of the below Jupyter Notebooks on Google Colab click the \"Open in Colab\" badge below.\n",
    "\n",
    "[![Open In Colab](https://colab.research.google.com/assets/colab-badge.svg)](https://colab.research.google.com/github/cmspeed/OT_3DEP_Workflows/blob/main/notebooks/03_3DEP_Generate_DEM_USGS_HUCs.ipynb)"
   ]
  },
  {
   "cell_type": "code",
   "execution_count": null,
   "id": "b53f7c17",
   "metadata": {},
   "outputs": [],
   "source": [
    "### Exectute this block of cells if running on Google Colab\n",
    "!git clone https://github.com/cmspeed/OT_3DEP_Workflows"
   ]
  },
  {
   "cell_type": "code",
   "execution_count": null,
   "id": "9ed05f97",
   "metadata": {},
   "outputs": [],
   "source": [
    "# Installs Conda, which is the easiest way to install PDAL in the Google Colab environment\n",
    "# This will trigger a notification that \"Your session crashed for an unknown reason.\" \n",
    "# This is normal. Execute next cell.\n",
    "!pip install -q condacolab\n",
    "import condacolab\n",
    "condacolab.install()"
   ]
  },
  {
   "cell_type": "code",
   "execution_count": null,
   "id": "ff53140b",
   "metadata": {},
   "outputs": [],
   "source": [
    "# Import Conda and install PDAL ---- Takes 1-2 minutes\n",
    "import condacolab\n",
    "condacolab.check()\n",
    "!mamba install -q python-pdal"
   ]
  },
  {
   "cell_type": "code",
   "execution_count": null,
   "id": "968f5695",
   "metadata": {},
   "outputs": [],
   "source": [
    "#  Install the remaining dependencies\n",
    "!pip install -r OT_3DEP_Workflows/requirements.txt"
   ]
  },
  {
   "cell_type": "markdown",
   "id": "857cb286",
   "metadata": {},
   "source": [
    "**Runtime must be restarted before import of PDAL will be successful!**\n",
    "\n",
    "- On Google Colab ribbon click \"Runtime\" > \"Restart Runtime\".\n",
    "- Do not execute any of the previous cells. Execute the following cells only."
   ]
  },
  {
   "cell_type": "markdown",
   "id": "0f60e593",
   "metadata": {},
   "source": [
    "The `PROJ` library requires an environment variable, named `PROJ_LIB`, which defines its location for all other modules. When this is run in a conda environement, this is set automatically. However, in Colab this needs to be set manually, which we do in the next cell."
   ]
  },
  {
   "cell_type": "code",
   "execution_count": null,
   "id": "a08a7379",
   "metadata": {},
   "outputs": [],
   "source": [
    "import os\n",
    "os.environ['PROJ_LIB'] = '/usr/local/share/proj/'"
   ]
  },
  {
   "cell_type": "markdown",
   "id": "c052db13",
   "metadata": {},
   "source": [
    "Next, mount your Google Drive. This allows you to read and write files to your Google Drive."
   ]
  },
  {
   "cell_type": "code",
   "execution_count": null,
   "id": "2076bd5e",
   "metadata": {},
   "outputs": [],
   "source": [
    "# Mount your Google Drive for saving content\n",
    "from google.colab import drive\n",
    "drive.mount('/content/drive')"
   ]
  },
  {
   "cell_type": "markdown",
   "id": "98017c0f",
   "metadata": {},
   "source": [
    "**If using Option 1 (Google Colab), proceed to Library Imports**"
   ]
  },
  {
   "cell_type": "markdown",
   "id": "d57ca7ad",
   "metadata": {},
   "source": [
    "### Option 2: Install and run on local file system\n",
    "\n",
    "If you would like to run the Jupyter Notebook on your local machine:\n",
    "\n",
    "Make a new directory on your local file system where the 3DEP Jupyter Notebooks (and all 3DEP data, if desired) will be saved. In this example case, the directory will be called `3DEP`.\n",
    "  \n",
    "    $ mkdir 3DEP\n",
    "\n",
    "Change into the new directory and `git clone` the Github repository containing the Jupyter Notebooks and other relevant files to your local file system.\n",
    "\n",
    "    $ cd 3DEP\n",
    "$ git clone https://github.com/cmspeed/OT_3DEP_Workflows\n",
    "\n",
    "Anaconda is recommended for Python package installation and management. Package versions in Anaconda are managed by the package management system *conda*. Anaconda installers for MacOS/Linux/Windows can be downloaded from https://docs.anaconda.com/anaconda/install/. Follow the instructions to install Anaconda.\n",
    "\n",
    "After installing Anaconda, create a virtual environment with the required dependencies, using the `environment.yml` file contained in the cloned Github repo). Note: Exectuting the following command will automatically create the conda environment with name `3dep` and all of the required dependencies installed. If you would prefer a different name, replace `3dep` with another name in the following command:\n",
    "\n",
    "\t$ conda env create -n 3dep --file environment.yml\n",
    "\n",
    "Next, activate the conda environment with all of the necessary dependencies installed. \n",
    "\t\n",
    "\t$ conda activate 3dep\n",
    "    \n",
    "To use the Ipython kernel in this newly created conda environement, it will need to be installed manually.\n",
    "\n",
    "After activating the newly created environment (in this case called '3dep'), install the IPython kernel for Jupyter:\n",
    "\n",
    "    $ pip install --user ipykernel\n",
    "    \n",
    "Next, add the virtual environement you just created to Jupyter (assuming that the conda environement is called '3dep'. If not replace '3dep' with the name of your newly created environement in the command below:\n",
    "\n",
    "    $ python -m ipykernel install --user --name=3dep\n",
    "\n",
    "Now, launch the chosen Jupyter Notebook. If unsure how to launch a Notebook, refer to this guide (https://jupyter-notebook-beginner-guide.readthedocs.io/en/latest/execute.html). \n",
    "\n",
    "Once you are viewing the notebook, on the upper toolbar click \"Kernel\" > \"Change Kernel\" > \"3dep\" (or the name of your newly created conda environment.\n",
    "\n",
    "**You may now proceed to Library Imports**"
   ]
  },
  {
   "cell_type": "markdown",
   "id": "pleasant-vampire",
   "metadata": {},
   "source": [
    "### Library Imports\n",
    "\n",
    "After successfully completing the steps outlined in either **Option 1** or **Option 2**, we can now import the modules for use throughout the rest of the notebook."
   ]
  },
  {
   "cell_type": "code",
   "execution_count": 1,
   "id": "ce19509d",
   "metadata": {},
   "outputs": [],
   "source": [
    "#Import Modules\n",
    "import copy\n",
    "import geopandas as gpd\n",
    "import ipyleaflet\n",
    "import ipywidgets as widgets\n",
    "import json\n",
    "import math\n",
    "import matplotlib\n",
    "import matplotlib.pyplot as plt\n",
    "import numpy as np\n",
    "import os\n",
    "from osgeo import gdal\n",
    "import pdal\n",
    "import pyproj\n",
    "import requests\n",
    "from shapely.geometry import shape, Point, Polygon\n",
    "from shapely.ops import transform"
   ]
  },
  {
   "cell_type": "markdown",
   "id": "d1299e5e",
   "metadata": {},
   "source": [
    "### Define Functions\n",
    "\n",
    "Several functions are provided in the cell below. These functions are necessary for successful execution of remainder of the notebook. Broadly, these functions provide the utility for the user to draw and area of interest (AOI) on an interactive map and construct the PDAL pipeline for getting the point cloud data from the Amazon Web Services EPT bucket, performing processing steps, producing DEMs, and saving the results. A description of the parameters are provided as docstrings in the function definitions.\n",
    "\n",
    "**These functions can be modified as the user sees fit; however, they are designed to work with a simple execution of the below cell.**"
   ]
  },
  {
   "cell_type": "code",
   "execution_count": 2,
   "id": "d924c977",
   "metadata": {
    "scrolled": true
   },
   "outputs": [],
   "source": [
    "def proj_to_3857(poly, orig_crs):\n",
    "    \"\"\"\n",
    "    Function for reprojecting a polygon from a shapefile of any CRS to Web Mercator (EPSG: 3857).\n",
    "    The original polygon must have a CRS assigned.\n",
    "    \n",
    "    :param poly: shapely polygon for user area of interest (AOI)\n",
    "    :param orig_crs: the original CRS for the shapefile. It is stripped out during import_shapefile_to_shapely() method\n",
    "    \"\"\"\n",
    "    wgs84 = pyproj.CRS(\"EPSG:4326\")\n",
    "    web_mercator = pyproj.CRS(\"EPSG:3857\")\n",
    "    project_gcs = pyproj.Transformer.from_crs(orig_crs, wgs84, always_xy=True).transform\n",
    "    project_wm = pyproj.Transformer.from_crs(orig_crs, web_mercator, always_xy=True).transform\n",
    "    user_poly_proj4326 = transform(project_gcs, poly)\n",
    "    user_poly_proj3857 = transform(project_wm, poly)\n",
    "    return(user_poly_proj4326, user_poly_proj3857)\n",
    "\n",
    "def gcs_to_proj(poly):\n",
    "    \"\"\"\n",
    "    Function for reprojecting polygon shapely object from geographic coordinates (EPSG:4326) \n",
    "    to Web Mercator (EPSG: 3857)). \n",
    "    \n",
    "    :param poly: shapely polygon for user area of interest (AOI)\n",
    "    \"\"\"\n",
    "    wgs84 = pyproj.CRS(\"EPSG:4326\")\n",
    "    web_mercator = pyproj.CRS(\"EPSG:3857\")\n",
    "    project = pyproj.Transformer.from_crs(wgs84, web_mercator, always_xy=True).transform\n",
    "    user_poly_proj3857 = transform(project, poly)\n",
    "    return(user_poly_proj3857)\n",
    "\n",
    "def import_shapefile_to_shapely(path):\n",
    "    \"\"\"\n",
    "    Conversion of shapefile to shapely object.\n",
    "    \n",
    "    :param path: location of shapefile on user's local file system\n",
    "    \"\"\"\n",
    "    shapefile_path = path\n",
    "    gdf = gpd.read_file(shapefile_path)\n",
    "    orig_crs = gdf.crs                   # this is the original CRS of the imported shapefile\n",
    "    user_shp = gdf.loc[0, 'geometry']\n",
    "    user_shp_epsg4326, user_shp_epsg3857 = proj_to_3857(user_shp, orig_crs)\n",
    "    user_AOI = [[user_shp_epsg4326, user_shp_epsg3857]]\n",
    "    return user_AOI\n",
    "    \n",
    "def handle_draw(target, action, geo_json):\n",
    "    \"\"\"\n",
    "    Functionality to draw area of interest (AOI) on interactive ipyleaflet map.\n",
    "    \n",
    "    :param extent_epsg3857: polygon for user-defined AOI\n",
    "    :param usgs_3dep_dataset_name: name of 3DEP dataset which AOI overlaps\n",
    "    :param resolution: The desired resolution of the pointcloud based on the following definition:\n",
    "    \"\"\"\n",
    "        \n",
    "    geom = dict(geo_json['geometry'])\n",
    "    user_poly = shape(geom)\n",
    "    user_poly_proj3857 = gcs_to_proj(user_poly)\n",
    "    print('AOI is valid and has boundaries of ', user_poly_proj3857.bounds, 'Please proceed to the next cell.')\n",
    "    user_AOI.append((user_poly, user_poly_proj3857))  #for various reasons, we need user AOI in GCS and EPSG 3857\n",
    "    \n",
    "\n",
    "def build_pdal_pipeline(extent_epsg3857, usgs_3dep_dataset_names, pc_resolution, filterNoise = False,\n",
    "                        reclassify = False, savePointCloud = True, outCRS = 3857, pc_outName = 'filter_test', \n",
    "                        pc_outType = 'laz'):\n",
    "\n",
    "    \"\"\"\n",
    "    Build pdal pipeline for requesting, processing, and saving point cloud data. Each processing step is a 'stage' \n",
    "    in the final pdal pipeline. Each stages is appended to the 'pointcloud_pipeline' object to produce the final pipeline.\n",
    "    \n",
    "    Parameters:\n",
    "    :param extent_epsg3857: Polygon for user-defined AOI in Web Mercator projection (EPS:3857)Polygon is generated \n",
    "                            either through the 'handle_draw' methor or by inputing their own shapefile.\n",
    "    :param usgs_3dep_dataset_names: List of name of the 3DEP dataset(s) that the data will be obtained. This parameter is set \n",
    "                                determined through intersecttino of the 3DEP and AOI polys.\n",
    "    :param pc_resolution: The desired resolution of the pointcloud based on the following definition:\n",
    "        \n",
    "                        Source: https://pdal.io/stages/readers.ept.html#readers-ept\n",
    "                            A point resolution limit to select, expressed as a grid cell edge length. \n",
    "                            Units correspond to resource coordinate system units. For example, \n",
    "                            for a coordinate system expressed in meters, a resolution value of 0.1 \n",
    "                            will select points up to a ground resolution of 100 points per square meter.\n",
    "                            The resulting resolution may not be exactly this value: the minimum possible \n",
    "                            resolution that is at least as precise as the requested resolution will be selected. \n",
    "                            Therefore the result may be a bit more precise than requested.\n",
    "                            \n",
    "    :param filterNoise: Option to remove points from USGS Class 7 (Low Noise) and Class 18 (High Noise).\n",
    "    :param savePointCloud: Option to save (or not) the point cloud data. If savePointCloud == False, \n",
    "           the pc_outName and pc_outType parameters are not used and can be any value.\n",
    "    :param outCRS: Output coordinate reference systemt (CRS), specified by ESPG code (e.g., 3857 - Web Mercator)\n",
    "    :param pc_outName: Desired name of file on user's local file system. If savePointcloud = False, \n",
    "                  pc_outName can be in value.\n",
    "    :param pc_outType:  Desired file extension. Input must be either 'las' or 'laz'. If savePointcloud = False, \n",
    "                  pc_outName can be in value. If a different file type is requested,the user will get error.\n",
    "    :raise Exception: If user passes in argument that is not 'las' or 'laz'.\n",
    "    \"\"\"\n",
    "    \n",
    "    #this is the basic pipeline which only accesses the 3DEP data\n",
    "    readers = []\n",
    "    for name in usgs_3dep_dataset_names:\n",
    "        url = \"https://s3-us-west-2.amazonaws.com/usgs-lidar-public/{}/ept.json\".format(name)\n",
    "        reader = {\n",
    "            \"type\": \"readers.ept\",\n",
    "            \"filename\": str(url),\n",
    "            \"polygon\": str(extent_epsg3857),\n",
    "            \"requests\": 3,\n",
    "            \"resolution\": pc_resolution\n",
    "        }\n",
    "        readers.append(reader)\n",
    "        \n",
    "    pointcloud_pipeline = {\n",
    "            \"pipeline\":\n",
    "                readers\n",
    "    }\n",
    "    \n",
    "    if filterNoise == True:\n",
    "        \n",
    "        filter_stage = {\n",
    "            \"type\":\"filters.range\",\n",
    "            \"limits\":\"Classification![7:7], Classification![18:18]\"\n",
    "        }\n",
    "        \n",
    "        pointcloud_pipeline['pipeline'].append(filter_stage)\n",
    "    \n",
    "    if reclassify == True:\n",
    "        \n",
    "        remove_classes_stage = {\n",
    "            \"type\":\"filters.assign\",\n",
    "            \"value\":\"Classification = 0\"\n",
    "        }\n",
    "        \n",
    "        classify_ground_stage = {\n",
    "            \"type\":\"filters.smrf\"\n",
    "        }\n",
    "        \n",
    "        reclass_stage = {\n",
    "            \"type\":\"filters.range\",\n",
    "            \"limits\":\"Classification[2:2]\"\n",
    "        }\n",
    "\n",
    "    \n",
    "        pointcloud_pipeline['pipeline'].append(remove_classes_stage)\n",
    "        pointcloud_pipeline['pipeline'].append(classify_ground_stage)\n",
    "        pointcloud_pipeline['pipeline'].append(reclass_stage)\n",
    "    \n",
    "    reprojection_stage = {\n",
    "        \"type\":\"filters.reprojection\",\n",
    "        \"out_srs\":\"EPSG:{}\".format(outCRS)\n",
    "    }\n",
    "    \n",
    "    pointcloud_pipeline['pipeline'].append(reprojection_stage)\n",
    "    \n",
    "    if savePointCloud == True:\n",
    "        \n",
    "        if pc_outType == 'las':\n",
    "            savePC_stage = {\n",
    "                \"type\": \"writers.las\",\n",
    "                \"filename\": str(pc_outName)+'.'+ str(pc_outType),\n",
    "            }\n",
    "        elif pc_outType == 'laz':    \n",
    "            savePC_stage = {\n",
    "                \"type\": \"writers.las\",\n",
    "                \"compression\": \"laszip\",\n",
    "                \"filename\": str(pc_outName)+'.'+ str(pc_outType),\n",
    "            }\n",
    "        else:\n",
    "            raise Exception(\"pc_outType must be 'las' or 'laz'.\")\n",
    "\n",
    "        pointcloud_pipeline['pipeline'].append(savePC_stage)\n",
    "        \n",
    "    return pointcloud_pipeline\n",
    "\n",
    "\n",
    "def make_DEM_pipeline(extent_epsg3857, usgs_3dep_dataset_name, pc_resolution, dem_resolution,\n",
    "                      filterNoise = True, reclassify = True, savePointCloud = False, outCRS = 3857,\n",
    "                      pc_outName = 'filter_test', pc_outType = 'laz', demType = 'dtm', gridMethod = 'idw', \n",
    "                      dem_outName = 'dem_test', dem_outExt = 'tif', driver = \"GTiff\"):\n",
    "    \n",
    "    \"\"\"\n",
    "    Build pdal pipeline for creating a digital elevation model (DEM) product from the requested point cloud data. The \n",
    "    user must specify whether a digital terrain (bare earth) model (DTM) or digital surface model (DSM) will be created, \n",
    "    the output DTM/DSM resolution, and the gridding method desired. \n",
    "\n",
    "    The `build_pdal_pipeline() method is used to request the data from the Amazon Web Services ept bucket, and the \n",
    "    user may define any processing steps (filtering, reclassifying, reprojecting). The user must also specify whether \n",
    "    the point cloud should be saved or not. Saving the point cloud is not necessary for the generation of the DEM. \n",
    "\n",
    "    \n",
    "    :param extent_epsg3857: Polygon for user-defined AOI in Web Mercator projection (EPS:3857). Polygon is generated \n",
    "                         either through the 'handle_draw' methor or by inputing their own shapefile.\n",
    "                         This parameter is set automatically when the user-defined AOI is chosen.\n",
    "    :param usgs_3dep_dataset_names: List of name of the 3DEP dataset(s) that the data will be obtained. This parameter is set \n",
    "                                determined through intersecttino of the 3DEP and AOI polys.\n",
    "    :param pc_resolution: The desired resolution of the pointcloud based on the following definition:\n",
    "\n",
    "                        Source: https://pdal.io/stages/readers.ept.html#readers-ept\n",
    "                            A point resolution limit to select, expressed as a grid cell edge length. \n",
    "                            Units correspond to resource coordinate system units. For example, \n",
    "                            for a coordinate system expressed in meters, a resolution value of 0.1 \n",
    "                            will select points up to a ground resolution of 100 points per square meter.\n",
    "                            The resulting resolution may not be exactly this value: the minimum possible \n",
    "                            resolution that is at least as precise as the requested resolution will be selected. \n",
    "                            Therefore the result may be a bit more precise than requested.\n",
    "\n",
    "\n",
    "   \n",
    "    :param pc_outName: Desired name of file on user's local file system. If savePointcloud = False, \n",
    "                  pc_outName can be in value.\n",
    "    :param pc_outType:  Desired file extension. Input must be either 'las' or 'laz'. If savePointcloud = False, \n",
    "                  pc_outName can be in value. If a different file type is requested,the user will get error.\n",
    "    :raise Exception: If user passes in argument that is not 'las' or 'laz'.\n",
    "    \n",
    "    :param dem_resolution: Desired grid size (in meters) for output raster DEM \n",
    "    :param filterNoise: Option to remove points from USGS Class 7 (Low Noise) and Class 18 (High Noise).\n",
    "    :param savePointCloud: Option to save (or not) the point cloud data. If savePointCloud == False, \n",
    "           the pc_outName and pc_outType parameters are not used and can be any value.\n",
    "\n",
    "    :param outCRS: Output coordinate reference systemt (CRS), specified by ESPG code (e.g., 3857 - Web Mercator)\n",
    "    :param pc_outName: Desired name of file on user's local file system. If savePointcloud = False, \n",
    "                  pc_outName can be in value.\n",
    "    :param pc_outType:  Desired file extension. Input must be either 'las' or 'laz'. If a different file type is requested,\n",
    "                  the user will get error stating \"Extension must be 'las' or 'laz'\". If savePointcloud = False, \n",
    "                  pc_outName can be in value.\n",
    "    :param demType: Type of DEM produced. Input must 'dtm' (digital terrain model) or 'dsm' (digital surface model).\n",
    "    :param gridMethod: Method used. Options are 'min', 'mean', 'max', 'idw'.\n",
    "    :param dem_outName: Desired name of DEM file on user's local file system.\n",
    "    :param dem_outExt: DEM file extension. Default is TIF.\n",
    "    :param driver: File format. Default is GTIFF\n",
    "    :raise Exception: If user passes in argument that is not 'dtm' or 'dsm'\n",
    "    \"\"\"\n",
    "\n",
    "    dem_pipeline = build_pdal_pipeline(extent_epsg3857, usgs_3dep_dataset_name, pc_resolution,\n",
    "                                              filterNoise, reclassify, savePointCloud, outCRS, pc_outName, pc_outType)\n",
    "    \n",
    "    if demType == 'dsm':\n",
    "        dem_stage = {\n",
    "                \"type\":\"writers.gdal\",\n",
    "                \"filename\":str(dem_outName)+ '.' + str(dem_outExt),\n",
    "                \"gdaldriver\":driver,\n",
    "                \"nodata\":-9999,\n",
    "                \"output_type\":gridMethod,\n",
    "                \"resolution\":float(dem_resolution),\n",
    "                \"gdalopts\":\"COMPRESS=LZW,TILED=YES,blockxsize=256,blockysize=256,COPY_SRC_OVERVIEWS=YES\"\n",
    "        }\n",
    "    \n",
    "    elif demType == 'dtm':\n",
    "        groundfilter_stage = {\n",
    "                \"type\":\"filters.range\",\n",
    "                \"limits\":\"Classification[2:2]\"\n",
    "        }\n",
    "\n",
    "        dem_pipeline['pipeline'].append(groundfilter_stage)\n",
    "\n",
    "        dem_stage = {\n",
    "                \"type\":\"writers.gdal\",\n",
    "                \"filename\":str(dem_outName)+ '.' + str(dem_outExt),\n",
    "                \"gdaldriver\":driver,\n",
    "                \"nodata\":-9999,\n",
    "                \"output_type\":gridMethod,\n",
    "                \"resolution\":float(dem_resolution),\n",
    "                \"gdalopts\":\"COMPRESS=LZW,TILED=YES,blockxsize=256,blockysize=256,COPY_SRC_OVERVIEWS=YES\"\n",
    "        }\n",
    "    \n",
    "    else:\n",
    "        raise Exception(\"demType must be 'dsm' or 'dtm'.\")\n",
    "        \n",
    "        \n",
    "    dem_pipeline['pipeline'].append(dem_stage)\n",
    "    \n",
    "    return dem_pipeline"
   ]
  },
  {
   "cell_type": "markdown",
   "id": "8433ad51",
   "metadata": {},
   "source": [
    "## Data Access and Processing\n",
    "Now that we have the required modules imported and functions defined, we can proceed with defining our area of interest (AOI), accessing/processing the 3DEP data from the Amazon Web Services EPT bucket. "
   ]
  },
  {
   "cell_type": "markdown",
   "id": "14ecbeb2",
   "metadata": {},
   "source": [
    "### Get 3DEP Dataset Boundary Polygons  \n",
    "First, we will get the 3DEP dataset polygon boundaries to see if 3DEP data is currently available for our area of interest. An up-to-date version of the currently available 3DEP dataset boundaries are maintained by Hobu Inc. in the usgs-lidar Github repository https://github.com/hobuinc/usgs-lidar/. \n",
    "\n",
    "In the following cell, we use an API request to get the boundaries from the repository and save a local copy of these boundaries in geojson format. Next, we create a geopandas dataframe object to easily access the names, url, and point count of each dataset, and we use the ```gcs_to_proj()``` function to project each 3DEP polygon geometry to Web Mercator projection (EPSG: 3857), which is the native projection of the 3DEP data in the AWS S3 bucket."
   ]
  },
  {
   "cell_type": "code",
   "execution_count": 3,
   "id": "8e8debe2",
   "metadata": {},
   "outputs": [
    {
     "name": "stdout",
     "output_type": "stream",
     "text": [
      "Requesting, loading, and projecting 3DEP dataset polygons...\n",
      "Done. 3DEP polygons downloaded and projected to Web Mercator (EPSG:3857)\n"
     ]
    }
   ],
   "source": [
    "# Get GeoJSON file for 3DEP outlines from URL \n",
    "\n",
    "print(\"Requesting, loading, and projecting 3DEP dataset polygons...\")\n",
    "\n",
    "#request the boundaries from the Github repo and save locally.\n",
    "url = 'https://raw.githubusercontent.com/hobuinc/usgs-lidar/master/boundaries/resources.geojson'\n",
    "r = requests.get(url)\n",
    "with open('resources.geojson', 'w') as f:\n",
    "    f.write(r.content.decode(\"utf-8\"))\n",
    "\n",
    "with open('resources.geojson', 'r') as f:\n",
    "    geojsons_3DEP = json.load(f)\n",
    "    \n",
    "#make pandas dataframe and create pandas.Series objects for the names, urls, and number of points for each boundary.\n",
    "with open('resources.geojson', 'r') as f:\n",
    "    df = gpd.read_file(f)\n",
    "    names = df['name']\n",
    "    urls = df['url']\n",
    "    num_points = df['count']\n",
    "\n",
    "#project the boundaries to EPSG 3857 (necessary for API call to AWS for 3DEP data)\n",
    "projected_geoms = []\n",
    "for geometry in df['geometry']:\n",
    "        projected_geoms.append(gcs_to_proj(geometry))\n",
    "\n",
    "geometries_GCS = df['geometry']\n",
    "geometries_EPSG3857 = gpd.GeoSeries(projected_geoms)\n",
    "\n",
    "print('Done. 3DEP polygons downloaded and projected to Web Mercator (EPSG:3857)')"
   ]
  },
  {
   "cell_type": "markdown",
   "id": "1d4d0f8f",
   "metadata": {},
   "source": [
    "###  Create Interactive Ipyleaflet Map and Define the Location of the Watershed for 3DEP Query\n",
    "Next, we will specify the location of the desired USGS 12-digit (Subwatershed) or 14-digit HUC using an ipyleaflet interactive map and the 3DEP dataset polygons loaded in the prior step.  There are currently two options for specifying the watershed:\n",
    "\n",
    "1. **Option 1** - Define a point (lat/lon) on the map that you would like the watershed boundary. If you know the coordinates of a point within the watershed, replace the values for `lon` and `lat` below.\n",
    "\n",
    "2. **Option 2** - User places a maker on an ipyleaflet interactive map to define location. If you don't know the coordinates, execute the following cell, leaving lon/lat = 0.0.\n",
    "\n",
    "Running the next cell will produce an interactive map, make an ipyleaflet layer out of the 3DEP dataset polygon geojson, and allow the user to place a marker to define the location of the desired USGS 12- or 14-digit HUC. When the map is rendered, use the +/- symbols to zoom in and out. The currently available 3DEP datasets are shown in transparent green polygons. The current functionality of the notebook allows the user AOI to straddle multiple 3DEP datsets. In this case, points from both datasets will be queried and merged into the resulting las/laz file.\n",
    "\n",
    "**Important Note 1: Use the 'marker' shaped button on the left sidebar to place a marker on the map. None of the other tools in the sidebar should be used in this notebook.**\n",
    "\n",
    "**Important Note 2: If the user would like to place a new marker, the cell below must be re-executed each and every time. If multiple markers are drawn on the same interactive map without re-executing the cell, subsequent cells will not function appropriately. The cell must be run each and every time the user would like to define a new AOI.**\n"
   ]
  },
  {
   "cell_type": "code",
   "execution_count": 4,
   "id": "e33dc5f5",
   "metadata": {},
   "outputs": [],
   "source": [
    "# replace lon/lat to use option 1, leave both as 0.0 to use option 2.\n",
    "# cell must be executed for both option 1 and option 2.\n",
    "lon = 0.0\n",
    "lat = 0.0\n",
    "location = Point(lon,lat)"
   ]
  },
  {
   "cell_type": "code",
   "execution_count": 5,
   "id": "413b5707",
   "metadata": {
    "scrolled": true
   },
   "outputs": [
    {
     "name": "stdout",
     "output_type": "stream",
     "text": [
      "Place a marker on the map to locate the appropriate watershed where you would like 3DEP data using the tools on the left side of the map.\n"
     ]
    },
    {
     "data": {
      "application/vnd.jupyter.widget-view+json": {
       "model_id": "16c09d8c900f42179b2d64971259e96a",
       "version_major": 2,
       "version_minor": 0
      },
      "text/plain": [
       "Map(center=[37, -100], controls=(ZoomControl(options=['position', 'zoom_in_text', 'zoom_in_title', 'zoom_out_t…"
      ]
     },
     "metadata": {},
     "output_type": "display_data"
    },
    {
     "name": "stdout",
     "output_type": "stream",
     "text": [
      "AOI is valid and has boundaries of  (-10709012.826636981, 6100728.324644107, -10709012.826636981, 6100728.324644107) Please proceed to the next cell.\n"
     ]
    }
   ],
   "source": [
    "geo_json_3DEP = ipyleaflet.GeoJSON(data=geojsons_3DEP, style = {'color': 'green', 'opacity':1, \n",
    "                                       'weight':1, 'fillOpacity':0.1})\n",
    "\n",
    "dc = ipyleaflet.DrawControl(\n",
    "    marker={\"shapeOptions\": {\"color\": \"blue\"}},\n",
    "    polyline={},\n",
    "    polygon={},\n",
    "    circlemarker={},\n",
    ")\n",
    "\n",
    "if location.coords[0] != (0.0, 0.0):\n",
    "    user_AOI = [[location]]\n",
    "    marker = ipyleaflet.Marker(location=(lat,lon), draggable=False)\n",
    "\n",
    "    m = ipyleaflet.Map(\n",
    "        basemap=ipyleaflet.basemaps.Esri.WorldTopoMap,\n",
    "        center=(lat, lon),\n",
    "        zoom=7,\n",
    "        crs=ipyleaflet.projections.EPSG3857\n",
    "        )\n",
    "    \n",
    "    m.add_layer(geo_json_3DEP)  \n",
    "    m.add_layer(marker);\n",
    "    display(m)\n",
    "    print(\"The blue marker indicates the location of the lat/lon provided. Proceed to the next cells to get the corresponding HUC boundary\")\n",
    "\n",
    "else:\n",
    "    print('Place a marker on the map to locate the appropriate watershed where you would like 3DEP data using the tools on the left side of the map.')\n",
    "    \n",
    "    m = ipyleaflet.Map(\n",
    "        basemap=ipyleaflet.basemaps.Esri.WorldTopoMap,\n",
    "        center=(37, -100),\n",
    "        zoom=3.5,\n",
    "        crs=ipyleaflet.projections.EPSG3857\n",
    "        )\n",
    "    \n",
    "    m.add_layer(geo_json_3DEP)  #add 3DEP polygons GeoJSON\n",
    "    \n",
    "    user_AOI = []\n",
    "    dc.on_draw(handle_draw)\n",
    "    m.add_control(dc)\n",
    "    display(m)"
   ]
  },
  {
   "cell_type": "markdown",
   "id": "24f56b37",
   "metadata": {},
   "source": [
    "### Query the USGS Watershed Boundary Service\n",
    "Now that the user-defined location is specified, the following cell will make an API request to the USGS Map Service for the 12- or 14-digit HUC boundaries and return the relevant quadrangle as a geojson.\n",
    "\n",
    "The  `url = ../MapServer/6/` corresponds to the 12-digit HUCs. The  `url = ../MapServer/7/` corresponds to the 14-digit HUCs (commented out by default). The index for other map boundaries can be found <a href= \"https://hydro.nationalmap.gov/arcgis/rest/services/wbd/MapServer/\"> here </a>. Keep in mind that the 12-digit (subwatershed) HUs usually contain up to 1 billion points. Selecting anything larger (e.g., 10-digit (Watershed) HUs) will result in *very* large point clouds and much longer compute times. We have not tested functionality on HU's larger than 12-digit."
   ]
  },
  {
   "cell_type": "code",
   "execution_count": 6,
   "id": "858479f5",
   "metadata": {},
   "outputs": [],
   "source": [
    "#reformat bounding box for query\n",
    "user_AOI_center = user_AOI[-1][0].centroid\n",
    "user_AOI = user_AOI[-1][0].bounds\n",
    "user_AOI = str(user_AOI)\n",
    "user_AOI = user_AOI.strip('()')"
   ]
  },
  {
   "cell_type": "markdown",
   "id": "f2b50a18",
   "metadata": {},
   "source": [
    "Now exectute the call to the USGS Watershed Boundary Dataset REST API. There are several possibilities here if the following step does not execute properly. There is a print statement implemented that should provide some indication of which it is. \n",
    "\n",
    "1. If you receive the error `Error with Service Call` or `Error loading JSON output`, this most likely indicates that the region you selected does coincide with a USGS hydrologic unit from that particular service.\n",
    "\n",
    "2. If you recieve the error `{'message': 'Endpoint request timed out'}`, this likely indicates the Watershed Boundary Dataset service may be down. To check, click this link (https://stats.uptimerobot.com/gxzRZFARLZ/783928857). If you are greeted with the message `ScienceBase is down.`, the service is temporarily down and it is not possible to query the service at this time. \n",
    "\n",
    "If the cell executes successfully, the interesecting watershed boundary geometry will be printed. "
   ]
  },
  {
   "cell_type": "code",
   "execution_count": 7,
   "id": "411336b5",
   "metadata": {},
   "outputs": [
    {
     "name": "stdout",
     "output_type": "stream",
     "text": [
      "{'type': 'FeatureCollection', 'features': [{'type': 'Feature', 'geometry': {'type': 'Polygon', 'coordinates': [[[-96.05467667344112, 48.00723621100621], [-96.06117352942607, 48.00719014327981], [-96.06952261900038, 48.00716476277034], [-96.07633610237689, 48.00713759845936], [-96.0763160609629, 48.00637148182898], [-96.08231670734781, 48.006464035807426], [-96.0907346321274, 48.00611931833434], [-96.09349495467119, 48.00594352540151], [-96.09661895297123, 48.004270307495034], [-96.10049827003353, 48.00167771067105], [-96.10281384296835, 48.00046864098056], [-96.10336502587049, 48.00041992964728], [-96.10639774365957, 48.000591440052744], [-96.1101635334329, 48.000388022223326], [-96.11260063764588, 48.00028814211528], [-96.11532421550129, 47.99992687260017], [-96.11699208694661, 47.99876592360248], [-96.12099519185503, 47.998741645581866], [-96.12621441443555, 47.99883624317851], [-96.12955313613965, 47.99823812579172], [-96.13399853825634, 47.99803229002267], [-96.13720538907334, 47.99770167431153], [-96.13735937827934, 47.994792089073066], [-96.13767571551506, 47.988592339896336], [-96.13791711349316, 47.98116253694319], [-96.14010463697414, 47.9811386463019], [-96.14596850946717, 47.98110746175561], [-96.15502151710147, 47.98098833903257], [-96.16562192491497, 47.98095525064135], [-96.17713971205954, 47.98106218908001], [-96.1810228990641, 47.98106554319191], [-96.1813632204196, 47.97674804529572], [-96.1825052603184, 47.97686473267422], [-96.18366676760772, 47.97688930663366], [-96.18466089450509, 47.97694285285621], [-96.18506064750147, 47.976566657625156], [-96.18612311103914, 47.9755716715221], [-96.18688189550176, 47.974747378516206], [-96.18712023651294, 47.97408353906194], [-96.18789996070481, 47.9740396163673], [-96.18853973007039, 47.97400357368956], [-96.18890009014493, 47.97396921909817], [-96.18910248956159, 47.974312469302674], [-96.18979351769559, 47.97435005372638], [-96.19043637816405, 47.974194254637254], [-96.19142403180149, 47.97394772769612], [-96.19203727661166, 47.97507465448965], [-96.19278416917655, 47.97640880554893], [-96.19457726128087, 47.97824119975734], [-96.1974250896148, 47.98063391806732], [-96.1991014231901, 47.98270427680644], [-96.19959585053257, 47.98459205964857], [-96.19963728622338, 47.985567042415795], [-96.20003060368906, 47.98658292161143], [-96.2002496578711, 47.98707122049489], [-96.20106961490961, 47.98750472476835], [-96.20228390361177, 47.987901865956786], [-96.20330267399233, 47.98788610888712], [-96.20451544903324, 47.98795366500464], [-96.20487909155182, 47.988336499570835], [-96.2056393896757, 47.98902518087543], [-96.20596684895295, 47.99034713074658], [-96.20608620990139, 47.99090158877282], [-96.20696205113371, 47.99132081504456], [-96.20758574963885, 47.991632989331734], [-96.20754018169777, 47.9918117413729], [-96.20833278593419, 47.99210651207518], [-96.21005155233023, 47.99210915366977], [-96.21198556315318, 47.99223251430308], [-96.21312152594909, 47.992594596381764], [-96.21404533901422, 47.993163657929], [-96.21514601508746, 47.99415967021324], [-96.21649651982771, 47.994920482728524], [-96.21787290413302, 47.99518614620968], [-96.21877012706574, 47.99564271182692], [-96.21981038335127, 47.99627274103767], [-96.22040649459402, 47.995533418262724], [-96.22145415030256, 47.99416023470089], [-96.22269809329056, 47.992604050482996], [-96.22307578186691, 47.991997616218484], [-96.22332940771265, 47.99173731393463], [-96.22215101928252, 47.99164851740735], [-96.22213272329513, 47.99077363902172], [-96.22173563919347, 47.98943927540357], [-96.22085737161154, 47.9877455684554], [-96.2197312094354, 47.986723458595385], [-96.21803962785647, 47.985733406738426], [-96.21699086003363, 47.98440109421771], [-96.21527527996189, 47.983217142443564], [-96.21454001698669, 47.9822650830306], [-96.21344222630215, 47.981306962913216], [-96.2128446058897, 47.980237559798525], [-96.21181618400973, 47.9792288486761], [-96.21113527629574, 47.978372512013706], [-96.2115841590533, 47.97782498824067], [-96.21251007507453, 47.97796117847992], [-96.21347615567042, 47.97796654850827], [-96.21431368285756, 47.977845825565986], [-96.21429454694541, 47.97714928931534], [-96.21595955186663, 47.977135058814454], [-96.21621359902224, 47.97694961513604], [-96.21652581299081, 47.976146526723376], [-96.21656582664852, 47.97484852526303], [-96.21646412029037, 47.97243593582666], [-96.21711248653318, 47.970050953403685], [-96.21822182775566, 47.96886886301233], [-96.21875279586895, 47.96770298696559], [-96.21868026768955, 47.966148764018236], [-96.21837579270715, 47.96435788306354], [-96.21774407763643, 47.962738286895885], [-96.21528341241016, 47.96275863405206], [-96.21534661338197, 47.96222189858161], [-96.21549299116258, 47.959915832022745], [-96.2157417265799, 47.95731509668088], [-96.21585444897838, 47.95548896744023], [-96.21425283996338, 47.95514168164253], [-96.21243611857382, 47.9537347237368], [-96.21112443363025, 47.95062797584342], [-96.2111971163199, 47.94822414981003], [-96.21119171295346, 47.94708718492457], [-96.21091735039768, 47.945986905936145], [-96.21033703333427, 47.94537627335738], [-96.20976574613606, 47.94491117043687], [-96.20905186306462, 47.944595837923146], [-96.20802032133564, 47.94405612649374], [-96.20716301414424, 47.94317623410619], [-96.2064573183183, 47.94264198084603], [-96.20578860972584, 47.94235452012929], [-96.20581420811818, 47.93961306530681], [-96.20589277028137, 47.9319426248184], [-96.20557770775503, 47.92649909634288], [-96.20677317046376, 47.92618869646312], [-96.21057776296578, 47.92598023783148], [-96.21345576930337, 47.925870503637476], [-96.21642759299428, 47.92587469323342], [-96.2197467152555, 47.92553375713314], [-96.2213119020773, 47.92489210149772], [-96.2223917578972, 47.92464309753653], [-96.22357711096573, 47.924172442096506], [-96.22522436966852, 47.92380541711753], [-96.22673000896678, 47.92360271705215], [-96.22824107498766, 47.92348731076349], [-96.22982445449061, 47.923836362965424], [-96.23187796550089, 47.92441998372956], [-96.23329090674663, 47.92481752642665], [-96.23458728888934, 47.92473724460452], [-96.23584913799591, 47.92410394351795], [-96.2370390545061, 47.92405579460345], [-96.23912122446886, 47.9240553383067], [-96.24019814728935, 47.92358757123677], [-96.24080036348278, 47.922812480623385], [-96.24056164607748, 47.9217695722392], [-96.24053780478985, 47.9210413202569], [-96.24078649978298, 47.92050947028107], [-96.24157298110244, 47.92025399338752], [-96.24260417159012, 47.92044352783074], [-96.24367796557848, 47.9209671538174], [-96.24522513489062, 47.92108376131866], [-96.24524114466564, 47.91926099534671], [-96.24579378014357, 47.91873511492346], [-96.24633364517145, 47.9180054903071], [-96.24671238208177, 47.91781983194228], [-96.24762253626301, 47.91780864650712], [-96.24776198803276, 47.917265294178], [-96.24768222482206, 47.91668441093813], [-96.24811336315784, 47.91664304937478], [-96.24911987602637, 47.916439603585076], [-96.24960020161551, 47.91579912236977], [-96.24905579290893, 47.915071038011234], [-96.25027940702205, 47.91452612643147], [-96.25113915763103, 47.91474959960646], [-96.25210532626181, 47.91494089121763], [-96.25328249657643, 47.915038719597355], [-96.25416455415053, 47.91492623055178], [-96.25424474945089, 47.914821906096705], [-96.25464388979624, 47.91427117752562], [-96.25507535332217, 47.91354458834917], [-96.25623695673121, 47.91339499354654], [-96.25715646327288, 47.913879136989195], [-96.25759518069471, 47.91430403528772], [-96.25845678632474, 47.91455655702662], [-96.25926077850403, 47.91492733717629], [-96.2605166268645, 47.91524153389766], [-96.26232067033047, 47.91530687126881], [-96.26405622354422, 47.91472044433711], [-96.26419735516356, 47.9144195818782], [-96.26470785336649, 47.9135631570141], [-96.265550903396, 47.91294627458144], [-96.26620875584823, 47.912749680073176], [-96.26686018624451, 47.91273112978163], [-96.2675569743761, 47.91259270715035], [-96.2681369312151, 47.91227974131821], [-96.26875507723348, 47.91201311717942], [-96.26998375694647, 47.911918810876166], [-96.2704153794742, 47.91149148511103], [-96.27117328718109, 47.910924419099906], [-96.2719232789337, 47.91051172476539], [-96.27273195762383, 47.91074952669114], [-96.27282222483515, 47.91078252337273], [-96.27333908850018, 47.911147225622074], [-96.27397504541567, 47.91172196077911], [-96.27470469212373, 47.912104297738914], [-96.2756025223176, 47.91263597762168], [-96.27675324443364, 47.91298256216406], [-96.27951698955864, 47.91373362535587], [-96.2815964025918, 47.91453977269698], [-96.28345316009697, 47.91503209973271], [-96.28386969991105, 47.91436799987941], [-96.28403188085412, 47.91386533159686], [-96.28459903220875, 47.91390838304649], [-96.28533813907508, 47.91415994457687], [-96.28617504013648, 47.914562850622005], [-96.28741124683324, 47.914586720278244], [-96.28843793047315, 47.91436667588941], [-96.28830512803313, 47.91295468416534], [-96.28828545582672, 47.90978281754827], [-96.28830242410412, 47.90671158202335], [-96.2873671108067, 47.90627065875841], [-96.28703690268468, 47.90583272641143], [-96.28725645273676, 47.90452492434001], [-96.28614073347578, 47.90457722855423], [-96.28413152288375, 47.90437040273098], [-96.28274216421083, 47.903922104746144], [-96.28267278462648, 47.902825939943], [-96.2827010267607, 47.90040513737743], [-96.2824832904072, 47.89839809209595], [-96.28205427479044, 47.8973528913641], [-96.28169623955584, 47.89595250978121], [-96.28176916479062, 47.89494538793098], [-96.28196282449788, 47.8943799734943], [-96.28202145124827, 47.89420879932968], [-96.28147447695324, 47.89366162860251], [-96.2811204769509, 47.893195081139154], [-96.28086896394272, 47.892323587383316], [-96.28004524925137, 47.89188894633897], [-96.27929893250658, 47.89147817894911], [-96.27832977248589, 47.89092973790438], [-96.27743957168374, 47.89070638595388], [-96.27666928159896, 47.89053198000697], [-96.27611816607048, 47.89012870677335], [-96.27562701308719, 47.88974990906566], [-96.27522349614976, 47.88952573580686], [-96.27501679110796, 47.88933522491061], [-96.27441787262994, 47.88939117801515], [-96.27360394508361, 47.88946721551702], [-96.2723328954319, 47.88968680255028], [-96.27103415790651, 47.88977622254972], [-96.27007945357539, 47.889764161828026], [-96.26921285690563, 47.88960554639074], [-96.26780674734759, 47.88922659847827], [-96.26606207264045, 47.88872633530325], [-96.26489937777832, 47.888811811944294], [-96.26439247283653, 47.88880005038324], [-96.26449007658879, 47.88756641917521], [-96.26461615603722, 47.88647601290714], [-96.26466809123706, 47.88575435590739], [-96.26502652083205, 47.884644242054], [-96.26257621138438, 47.88437351393915], [-96.26095682381161, 47.88431481131371], [-96.25797093070672, 47.884504412927484], [-96.2557576085091, 47.88490770706282], [-96.25490965098317, 47.88566504764093], [-96.25406470820334, 47.886160410819535], [-96.253021919567, 47.88629474326847], [-96.25163975999277, 47.88629464989431], [-96.25027130242155, 47.886202493136736], [-96.24892780274388, 47.885887012878364], [-96.24719538285385, 47.88511113583769], [-96.24616491550995, 47.88419752574841], [-96.24536502503827, 47.88292383686889], [-96.23804659145402, 47.88293425508932], [-96.23113294053346, 47.882880428899874], [-96.22188747962932, 47.88289170502281], [-96.21437708056044, 47.88294528419481], [-96.21169385772254, 47.88299425696154], [-96.21080817544627, 47.88189295886903], [-96.20863684230164, 47.88077524634713], [-96.20652222788578, 47.879943977765095], [-96.2054690385551, 47.879279426495906], [-96.20496719202669, 47.87871730901721], [-96.20462254348645, 47.87754846721693], [-96.20445916508912, 47.876793572315314], [-96.20355189719487, 47.87565353843403], [-96.19405823896422, 47.87572188061931], [-96.18481790564371, 47.87579549851993], [-96.18290897758013, 47.875769920257945], [-96.18294949519269, 47.87960536528509], [-96.18051919661629, 47.87933233219982], [-96.17867585634822, 47.87910845064783], [-96.17842782970166, 47.879508148339156], [-96.17856362802316, 47.87981864208569], [-96.17722800118064, 47.88057582029368], [-96.17579645133375, 47.88072021657176], [-96.17492713187038, 47.881464455006565], [-96.17421355063286, 47.88284598842313], [-96.17409226728972, 47.885010686349446], [-96.17432865356683, 47.88688641636001], [-96.17476676103257, 47.88808140158646], [-96.17482886246648, 47.88959368501561], [-96.1751941453088, 47.89009506022019], [-96.17251929027778, 47.89012815078645], [-96.16485287181035, 47.890114866131995], [-96.16008010833278, 47.89016460616428], [-96.15646380720591, 47.890223253970575], [-96.15394305187364, 47.89027213492251], [-96.15529017805014, 47.89193321414024], [-96.15617047402796, 47.89340253527011], [-96.15626420873629, 47.89444338930363], [-96.15591038839702, 47.89512828425078], [-96.15673498523398, 47.89668097153171], [-96.15693423336062, 47.898455457975956], [-96.15780989762484, 47.900845566177864], [-96.15897520209288, 47.90349366750815], [-96.15964368790314, 47.90447776950584], [-96.16123695785734, 47.90590695248357], [-96.16150612276088, 47.906329182941455], [-96.16158332307808, 47.907595536909604], [-96.1622390285568, 47.911362453476585], [-96.16248809635078, 47.91295142256918], [-96.16310609684206, 47.9165966154114], [-96.16336222898745, 47.918799167352994], [-96.16343576777156, 47.92000424346947], [-96.16351180297383, 47.92125016842527], [-96.16352660181983, 47.92298880773179], [-96.16336453136954, 47.924323136242144], [-96.16276875789332, 47.925035178713095], [-96.16181127866626, 47.925307084166754], [-96.16029807196006, 47.92545107340501], [-96.15859256200267, 47.92543666191831], [-96.15656397295334, 47.925615250661274], [-96.15577261647684, 47.92561656232433], [-96.15480817620467, 47.92527481729372], [-96.1544098120037, 47.92373086094701], [-96.15360537515835, 47.92301643832564], [-96.1526353590432, 47.92208151025397], [-96.15163316886783, 47.92161802062632], [-96.14934050387106, 47.92145592565981], [-96.14541316556863, 47.92144091225899], [-96.1429580159982, 47.92161049318087], [-96.14169166363713, 47.92180885400578], [-96.1403410142681, 47.92162077900377], [-96.14026498715066, 47.91986335815228], [-96.12276445794309, 47.91987047888423], [-96.12231099916745, 47.92143772584633], [-96.12184564490083, 47.92255519106721], [-96.12079875815019, 47.92387260919997], [-96.11969806770391, 47.92480275057405], [-96.1170542234148, 47.926900080010675], [-96.11379373239554, 47.9288708680933], [-96.11094474523489, 47.930093869651564], [-96.10757870216975, 47.93081932658654], [-96.10404815601652, 47.930833060042715], [-96.1035627028437, 47.9298436899275], [-96.10189668192788, 47.92845659840379], [-96.09955480811817, 47.92696498912562], [-96.09802995205936, 47.92538989333254], [-96.09725920024053, 47.925226569543604], [-96.0949215691739, 47.925330569631555], [-96.0937068959928, 47.92384934761059], [-96.09218718189068, 47.9223558735251], [-96.09090335819565, 47.92073326918963], [-96.09054229923181, 47.92029289342127], [-96.08935343195388, 47.91924057146206], [-96.08621377781506, 47.9176269549416], [-96.08309377072983, 47.915828591312064], [-96.07922407192927, 47.914213942364555], [-96.07652122629231, 47.913283949580006], [-96.07353885009175, 47.91277056953959], [-96.07210658608423, 47.91265835795144], [-96.07130040740553, 47.91259518783514], [-96.06784597191306, 47.91294481929643], [-96.06414925629689, 47.91405100595789], [-96.06261956640354, 47.915142110995966], [-96.06116940885386, 47.91758141289519], [-96.05963877213618, 47.92028004454156], [-96.05815172976095, 47.92209870390335], [-96.05727990399794, 47.923536574473324], [-96.05682825442926, 47.92507041642196], [-96.05700269647767, 47.925883885061204], [-96.0572345175165, 47.92713623315326], [-96.0567986863817, 47.928296379999914], [-96.05495206995779, 47.92928698474725], [-96.05312920588831, 47.929730903827355], [-96.05145200633709, 47.92979434855941], [-96.04973133730927, 47.92959532856749], [-96.04906065781311, 47.92867173319218], [-96.04724881517383, 47.9293035476039], [-96.04658012185276, 47.930319210096314], [-96.04580980571683, 47.93103631440647], [-96.04527651276358, 47.931973060818514], [-96.04565528111493, 47.932697315330444], [-96.04716296767371, 47.93356104727549], [-96.04762017062745, 47.934189071647566], [-96.04739681531184, 47.93515525138226], [-96.04678953351852, 47.93626342647025], [-96.04564073469552, 47.93721651815254], [-96.04449410530394, 47.93820719636975], [-96.0434044901868, 47.94064613585245], [-96.04243848774433, 47.94232865039165], [-96.04091172366387, 47.9440071934299], [-96.03821601065025, 47.944869393382], [-96.03588549334235, 47.945269989106635], [-96.03158542426561, 47.94649455176476], [-96.02877479337096, 47.94779261540139], [-96.02818238857706, 47.94916460287435], [-96.02827370052906, 47.95168447845032], [-96.02851746826289, 47.952977200351626], [-96.02829598773125, 47.95494119140466], [-96.02748177721563, 47.95635597033017], [-96.0274527769033, 47.957298151765094], [-96.02682512221766, 47.959028087271314], [-96.02638843947994, 47.96114837541918], [-96.02661082281843, 47.962554631583494], [-96.02733155644223, 47.963853601318064], [-96.03117400035707, 47.96388396620051], [-96.03705755314132, 47.96382254528088], [-96.04484995224249, 47.96380432849734], [-96.04369464961684, 47.96513413079782], [-96.04274849185731, 47.96668431708039], [-96.0429709865869, 47.96856125082278], [-96.04239272576716, 47.97064769664614], [-96.04194666371956, 47.971167887143075], [-96.03969716546713, 47.9710580413586], [-96.03750477042237, 47.97096546536182], [-96.03181967255237, 47.97107814827517], [-96.02843121113098, 47.97114879246195], [-96.02778974664447, 47.97312385981816], [-96.02773628161371, 47.97604365237966], [-96.02755921468805, 47.97828889110379], [-96.0264508607141, 47.97899594135595], [-96.02508937766274, 47.97969082790831], [-96.02470513767301, 47.98079299533148], [-96.02484190168344, 47.98169314613253], [-96.02424294996776, 47.98248088922491], [-96.02462402788768, 47.98324280350993], [-96.02666112308445, 47.98450707671287], [-96.02812664721537, 47.98510857664361], [-96.02955174356526, 47.98597561391686], [-96.02975271555893, 47.98734221107035], [-96.03001776438182, 47.98914439206874], [-96.03183223638993, 47.99282446292989], [-96.03272005575825, 47.994570860849265], [-96.0328726777284, 47.99908560387932], [-96.03545664391393, 47.998900960979604], [-96.0398758790047, 47.99954681271665], [-96.04185723194144, 48.0001956173279], [-96.04357609445722, 48.00043302729554], [-96.04471019324892, 48.00158680285463], [-96.04963204741925, 48.00337578199048], [-96.05458124451017, 48.004909751715], [-96.05467667344112, 48.00723621100621]]]}, 'properties': {'name': 'County Ditch No 62-Red Lake River'}}]}\n"
     ]
    }
   ],
   "source": [
    "#url for 12-digit HUCs is ../MapServer/6/\n",
    "#url = 'https://hydro.nationalmap.gov/arcgis/rest/services/wbd/MapServer/7/query?'   #14-Digit HUC\n",
    "url = 'https://hydro.nationalmap.gov/arcgis/rest/services/wbd/MapServer/6/query?'   #12-Digit HUC\n",
    "\n",
    "#the parameters here will query the map server for the appropriate HU boundary\n",
    "params = dict(geometry=user_AOI,geometryType='esriGeometryEnvelope',inSR='4326',\n",
    "              spatialRel='esriSpatialRelIntersects',f='geojson')\n",
    "\n",
    "#Execute REST API call.  \n",
    "try:\n",
    "    r = requests.get(url,params=params)\n",
    "except:\n",
    "    print('Error with Service Call. This could mean that there is no hydrologic unit polygon where you selected.')\n",
    "\n",
    "#load API JSON output into a variable\n",
    "try:\n",
    "    wbd_geojson = json.loads(r.content)\n",
    "    print(wbd_geojson)   \n",
    "except:\n",
    "    print('Error loading JSON output')\n",
    "\n",
    "#To write out a JSON file...\n",
    "with open('WBD_API_Query.geojson', 'w') as outfile:\n",
    "    json.dump(wbd_geojson, outfile)"
   ]
  },
  {
   "cell_type": "markdown",
   "id": "e2ffb498",
   "metadata": {},
   "source": [
    "### Find 3DEP Polygon(s) Intersecting AOI\n",
    "Now that the user-specified hydrologic unit boundary is defined, the following cell will determine the intersecting 3DEP dataset names and show them on an interactive map. These names will be used in the API request to the AWS EPT bucket along with the user-defined quad. `intersecting_polys` will be a list of the intersecting 3DEP dataset name(s), boundary(ies) in EPSG: 4326, boundary(ies) in EPSG: 3857, url(s), and the number of points in the entire 3DEP dataset(s). The dataset names will be used in the API request to the AWS EPT S3 bucket. A ratio of the total number of points and the area of the user-defined AOI will be used to estimate the total points within the AOI."
   ]
  },
  {
   "cell_type": "code",
   "execution_count": null,
   "id": "e0d3243e",
   "metadata": {},
   "outputs": [],
   "source": [
    "with open(\"WBD_API_Query.geojson\") as jsonFile:\n",
    "        wbd_geojson = json.load(jsonFile)\n",
    "        jsonData = wbd_geojson[\"features\"]\n",
    "        WBD_names = []\n",
    "        WBD_geometries = []\n",
    "        for x in jsonData:\n",
    "            for value in x['properties'].values():                \n",
    "                WBD_names.append(value)\n",
    "\n",
    "with open('WBD_API_Query.geojson', 'r') as f:\n",
    "    df = gpd.read_file(f)\n",
    "\n",
    "projected_geoms = []\n",
    "for geometry in df['geometry']:\n",
    "        projected_geoms.append(gcs_to_proj(geometry))\n",
    "\n",
    "user_wbd12 = df['geometry']\n",
    "user_wbd12_EPSG3857 = gpd.GeoSeries(projected_geoms)\n",
    "        \n",
    "    \n",
    "\n",
    "#here find the interesecting 3DEP datasets\n",
    "intersecting_polys = []\n",
    "for i,geom in enumerate(geometries_EPSG3857):\n",
    "    if geom.intersects(user_wbd12_EPSG3857[0]):\n",
    "        intersecting_polys.append((names[i], geometries_GCS[i], geometries_EPSG3857[i], urls[i], num_points[i]))\n",
    "        \n",
    "if len(intersecting_polys) == 0:\n",
    "    raise Exception('the watershed you selected or coordinates you entered do not overlap existing 3DEP data.')\n",
    "\n",
    "print(intersecting_polys)"
   ]
  },
  {
   "cell_type": "markdown",
   "id": "4ff3867e",
   "metadata": {},
   "source": [
    "### Specify Point Cloud Resolution\n",
    "Executing the next cell will show the AOI, the relevant 3DEP dataset(s) on another interactive map, and the option to specify point cloud resolution. \n",
    "\n",
    "Importantly, after the map is rendered, the user must define the desired 'point cloud resolution' using the radio buttons below the map. An estimation of the total number of lidar points within the bounding box is provided based on the area of the AOI and the total number of lidar points in the 3DEP dataset(s). Selecting the \"Full\" option will return all points in the quad (this number will be quite large, >1 billion points in some cases). Selecting any of the other options for resoltuion will return the appropriate number of points to ensure at least one lidar point per Nth meter (where N is the chosen resolution). The user is not alone if they are at least somewhat confused by the concept of resolution in this sense. The Entwine Point Tile (EPT) file format utilizes an octree structure for the point cloud, and in essense, the chosen resolution defines how deep in the octree to request points to obtain the specified resolution. This depth, and total number points varies drastically based on a number of parameters including local topography and vegetation. Therefore, the 'resolution' paramater and the total point count do not scale linearly. In other words, specifying a resolution of 2m will likely return far less than half of the number of points returned with 'full' resolution. The estimate of the full poin total provided is not exact, but should give the user some idea of how many points to expect the resultant point cloud to contain. \n",
    "\n",
    "Select the appropriate radio button below the map to specify `pointcloud_resolution`."
   ]
  },
  {
   "cell_type": "code",
   "execution_count": null,
   "id": "62ff9e05",
   "metadata": {},
   "outputs": [],
   "source": [
    "#make ipyleaflet layer from HU boundary\n",
    "wbd_geom = dict(jsonData[0]['geometry'])\n",
    "user_wbd_poly = shape(wbd_geom)\n",
    "user_wbd_poly_proj3857 = gcs_to_proj(user_wbd_poly)\n",
    "user_wbd_poly_proj3857_wkt = user_wbd_poly_proj3857.wkt\n",
    "\n",
    "wbd12 = ipyleaflet.GeoJSON(data=wbd_geojson, style = {'color': 'blue', 'opacity':1, \n",
    "                                                         'weight':1.9, 'fillOpacity':0.1})\n",
    "#make ipyleaflet layers from intersecting 3DEP polygons\n",
    "wlayer_3DEP_list = []\n",
    "usgs_3dep_datasets = []\n",
    "number_pts_est = []\n",
    "for i, poly in enumerate(intersecting_polys):\n",
    "    wlayer_3DEP = ipyleaflet.WKTLayer(\n",
    "        wkt_string=poly[1].wkt, \n",
    "        style={\"color\": \"green\"})\n",
    "    \n",
    "    m.add_layer(wlayer_3DEP)\n",
    "    wlayer_3DEP_list.append(wlayer_3DEP)\n",
    "    usgs_3dep_datasets.append(poly[0])\n",
    "        \n",
    "    #estimate total points using ratio of area and point count\n",
    "    number_pts_est.append((int((user_wbd_poly_proj3857.area/poly[2].area)*(poly[4]))))\n",
    "    \n",
    "print(\"Your WBD\", WBD_names, \"overlaps the following USGS 3DEP dataserts:\",usgs_3dep_datasets, \"which will be used in the API call\")\n",
    "\n",
    "#make ipyleaflet map and add layers\n",
    "m = ipyleaflet.Map(\n",
    "    basemap=ipyleaflet.basemaps.Esri.WorldTopoMap,\n",
    "    center=(user_wbd12[0].centroid.y, user_wbd12[0].centroid.x),\n",
    "    zoom=10,\n",
    "    crs=ipyleaflet.projections.EPSG3857\n",
    "    )\n",
    "m.add_layer(geo_json_3DEP)\n",
    "m.add_layer(wbd12)\n",
    "\n",
    "#calculate area of the AOI (in sq meters because the AOI is in Web Mercator projection)\n",
    "area = int(user_wbd12_EPSG3857.area/1e6)\n",
    "\n",
    "#sum the estimates of the number of points from each 3DEP dataset within the AOI\n",
    "num_pts_est = sum(number_pts_est)\n",
    "\n",
    "# Plot map and specify desired point cloud resolution using a widget\n",
    "user_resolution = widgets.RadioButtons(\n",
    "    options=[\n",
    "        (f'Full - All ~{int(math.ceil(num_pts_est/1e6)*1e6):,} points', 1.0),\n",
    "        (f'High - 2m resolution', 2.0),\n",
    "        (f'Mid  - 5m resolution', 5.0),\n",
    "        (f'Low  - 10m resolution', 10.0)\n",
    "    ],\n",
    "    layout={'width': 'max-content'},\n",
    "    disabled = False,\n",
    ")\n",
    "\n",
    "widgets.VBox(\n",
    "    [m,\n",
    "        widgets.Label(value=f'Your AOI at full resolution will include approximately {int(math.ceil(num_pts_est/1e6)*1e6):,} points. Select desired point cloud resolution.'),\n",
    "        user_resolution\n",
    "    ]\n",
    ")"
   ]
  },
  {
   "cell_type": "markdown",
   "id": "bd6cfefd",
   "metadata": {},
   "source": [
    "**Note**: Lidar point clouds can get *very* large, *very* fast. An AOI containing < 500,000,000 points *should* take less than ~20 minutes to access and store the data locally (or on Google Drive). An AOI containing < 50,000,000 points should take less than 5 minutes to do the same thing. Point clouds exceeding 1,000,000,000 points are accessible, even on local hardware, but they will take time to obtain and will likely require several to tens of gigabytes of storage on your local hard drive. Keep this in mind when deciding the AOI size and point cloud resolution above!\n",
    "\n",
    "The AOI bounding box, the relevant 3DEP dataset name(s), and the desired point cloud resolution are now defined. We can proceed with the API request to the AWS EPT bucket, processing, visualizing, and saving the data."
   ]
  },
  {
   "cell_type": "markdown",
   "id": "2990899f",
   "metadata": {},
   "source": [
    "### Construct and Exectute PDAL Pipeline for Point Cloud Data\n",
    "The Point Data Abstraction Library (PDAL) is an open-source tool for translating and manipulating point cloud data. PDAL pipelines are useful ways of processing and manipulating point cloud data and creating derivative products. Pipelines comprise one or more stages that are read and executed in order on the point cloud dataset(s). \n",
    "\n",
    "The PDAL pipeline is constructed using the ```build_pdal_pipeline()``` function, and will construct the appropriate pipeline for the user's specifications (defined as function arguments). Executing this pipeline will make the API request, perform processing on the point cloud data (chosen by user) and provide the final result on the user's file system of Google Drive (Google Colab).  \n",
    "\n",
    "Paramaters (for more detailed descriptions of parameters, see <a href=\"#Define-Functions\" data-toc-modified-id=\"Define-Functions-6.3\">the function definitions</a>, above: <br>\n",
    "```user_wbd_poly_proj3857```: the user-defined HUC boundary<br>\n",
    "```usgs_3dep_datasets```: the intersecting 3DEP dataset names<br>\n",
    "```pointcloud_resolution```: point cloud resolution (1m, 2m, 5m, 10m)<br>\n",
    "```filterNoise```: remove the points of Class 7 (low noise) and Class 18 (high noise);<br>\n",
    "```reclassify```: remove USGS classes and run an SMRF to classify ground points only<br>\n",
    "```savePointCloud```: specify if point cloud data should be saved to local file system<br>\n",
    "```outCRS```: specify the coordinate reference system (CRS, in EPSG) of the output dataset.<br>\n",
    "```pc_outName```: name of point cloud on local file system<br>\n",
    "```pc_outType```: file type, las or laz (laszip compression). Options are 'las' or 'laz'<br>\n",
    "\n",
    "**Important Note 1: The ```user_wbd_poly_proj3857```, ```usgs_3dep_datasets```, and ```pointcloud_resolution``` arguments are already defined. These should not be modified.**"
   ]
  },
  {
   "cell_type": "code",
   "execution_count": null,
   "id": "1555ea11",
   "metadata": {
    "scrolled": false
   },
   "outputs": [],
   "source": [
    "# Do not modify user_wbd_poly_proj3857, usgs_3dep_datasets, or pointcloud_resolution\n",
    "# Modify the optional arguments to fit user need.\n",
    "# Change outCRS to EPSG code of desired coordinate reference system (Default is EPSG:3857 - Web Mercator Projection)\n",
    "# Change pc_outname to descriptive name and pc_outType to 'las' or 'laz'.\n",
    "\n",
    "pointcloud_resolution = user_resolution.value\n",
    "pc_pipeline = build_pdal_pipeline(user_wbd_poly_proj3857, usgs_3dep_datasets, pointcloud_resolution, filterNoise = True,\n",
    "                                  reclassify = False, savePointCloud = True, outCRS = 3857,\n",
    "                                  pc_outName = 'wbd_test', pc_outType = 'laz')"
   ]
  },
  {
   "cell_type": "markdown",
   "id": "9492ef96",
   "metadata": {},
   "source": [
    "The PDAL pipeline is now constructed. Running the the PDAL Python bindings function ```pdal.Pipeline()``` creates the pdal.Pipeline object from a json-ized version of the pointcloud pipeline we created."
   ]
  },
  {
   "cell_type": "code",
   "execution_count": null,
   "id": "11828c9c",
   "metadata": {},
   "outputs": [],
   "source": [
    "pc_pipeline = pdal.Pipeline(json.dumps(pc_pipeline))"
   ]
  },
  {
   "cell_type": "markdown",
   "id": "7ef24354",
   "metadata": {},
   "source": [
    "The cell below will execute the pc_pipeline object, which will make the API request, performing processing, and save the point cloud (if `savePointCloud == True`) at the specified location, name, and extension.\n",
    "\n",
    "The pipeline is executed in streaming mode, which significantly speeds up the process and cuts down on the required RAM. The `%%time` magic command will return the total computation time. The final output is the total number of points returned. "
   ]
  },
  {
   "cell_type": "markdown",
   "id": "eb758a8c",
   "metadata": {},
   "source": [
    "**Note**: If `reclassify = True`, the PDAL pipeline cannot be executed in streaming mode, because reclassifying requires all points to be present in memory. In this case the syntax for exectuting the pipeline without streaming is `pc_pipeline.execute()`. This will likely be slow and may not be possible for very large point clouds."
   ]
  },
  {
   "cell_type": "code",
   "execution_count": null,
   "id": "b10b6ee0",
   "metadata": {},
   "outputs": [],
   "source": [
    "%%time\n",
    "pc_pipeline.execute_streaming(chunk_size=1000000)"
   ]
  },
  {
   "cell_type": "markdown",
   "id": "da107b41",
   "metadata": {},
   "source": [
    "If the user only desires point cloud data, they may stop here. Following is an overview on how a DSM and DTM may be created."
   ]
  },
  {
   "cell_type": "markdown",
   "id": "fd2ed7a5",
   "metadata": {},
   "source": [
    "### Digital Elevation Model (DEM) Generation \n",
    "The following cells may be run to produce a DSM and DTM of the user-defined AOI. The DTM is produced using only points classified as 'Ground' (USGS Class 2), and therefore, represents the surface of the ground beneath any vegetation. Alternatively, a DSM uses all points to produce a representation of the surface including vegetation and other structures. \n",
    "\n",
    "The DTM/DSM is produced using an analogous approach to point cloud request and processsing. Namely, a PDAL pipeline is constructed using the function `make_DEM_pipeline()`. This function first constructs a pipeline using `build_pdal_pipeline()` to create stages related to point cloud access and processing. The function then appends PDAL stages specific to the creation of gridded products that fit the specification of the user (defined as function arguments), namely dem resolution and dem type.\n",
    "\n",
    "Paramaters (for more detailed descriptions of parameters, see <a href=\"#Define-Functions\" data-toc-modified-id=\"Define-Functions-6.3\">the function definitions</a>, above:<br>\n",
    "`user_wbd_poly_proj3857`: the user-defined area of interest (AOI)<br>\n",
    "`usgs_3dep_dataset`: the corresponding 3DEP dataset name<br>\n",
    "`pointcloud_resolution`: point cloud resolution (1m, 2m, 5m, 10m)<br>\n",
    "`dem_generation`: grid size for dem product (specified in meters)<br>\n",
    "`filterNoise`: remove the points of Class 7 (noise); optional<br>\n",
    "`reclassify`: remove USGS classes and run an SMRF to classify ground points only<br>\n",
    "`savePointCloud`: specify if point cloud data should be saved to local file system<br>\n",
    "`pc_outName`: name of point cloud on local file system<br>\n",
    "`pc_outType`: file type, las or laz (laszip compression). Options are 'las' or 'laz'<br>\n",
    "`demType`: specifies to create digital surface model (DSM) or digital terrain model (DTM)<br>\n",
    "`gridMethod`: gridding method to use; options: (min, mean, max, idw)<br>\n",
    "`dem_outName`: name of dem on local file system <br>\n",
    "`dem_outExt`: extension of file on local file system (must correspond to what is chosen for ```driver```<br>\n",
    "`driver`: gdal code of the driver (default is \"GTiff\"; other options can be found at https://gdal.org/drivers/raster/index.html<br>\n",
    "\n",
    "**Important note 1: The `make_DEM_pipeline()` function is used for the making of both DSM and DTM products. The type of DEM (DSM/DTM) is specified in the `demType` argument (e.g., `demType = 'dsm'`)**\n",
    "\n",
    "**Important Note 2: The `user_wbd_poly_proj3857`, `usgs_3dep_datasets`, and `pointcloud_resolution` arguments are already defined after running the above cells. These should not be modified.**"
   ]
  },
  {
   "cell_type": "markdown",
   "id": "2564000a",
   "metadata": {},
   "source": [
    "### Make Digital Surface Model (DSM)\n",
    "The following cells will produce a Digital Surface Model (DSM) using all of the lidar returns in the point cloud.\n",
    "Do not modify the `AOI_EPSG3857_wtk`, `usgs_3dep_datasets`, or `pointcloud_resolution` arguments. Specify the desired dsm resolution (in meters), the appropriate point cloud processing steps, and the file names/extensions."
   ]
  },
  {
   "cell_type": "code",
   "execution_count": null,
   "id": "87e23c3b",
   "metadata": {
    "scrolled": false
   },
   "outputs": [],
   "source": [
    "# Do not modify user_wbd_poly_proj3857, usgs_3dep_datasets, or pointcloud_resolution\n",
    "# Modify the optional arguments to fit user need.\n",
    "# Change outCRS to EPSG code of desired coordinate reference system (Default is EPSG:3857 - Web Mercator Projection)\n",
    "# Change dem_outName to descriptive name; dem_outExt can be any extension supported by gdal.\n",
    "\n",
    "pointcloud_resolution = user_resolution.value\n",
    "dem_resolution = 2.0\n",
    "dem_pipeline = make_DEM_pipeline(user_wbd_poly_proj3857, usgs_3dep_datasets, pointcloud_resolution, dem_resolution,\n",
    "                                 filterNoise = True, reclassify = False,  savePointCloud = False, outCRS = 3857,\n",
    "                                 pc_outName = 'wbd_test', pc_outType = 'laz', demType = 'dsm',\n",
    "                                 gridMethod='idw', dem_outName = 'test_dsm_wbd', dem_outExt = 'tif', driver = \"GTiff\")"
   ]
  },
  {
   "cell_type": "markdown",
   "id": "39029939",
   "metadata": {},
   "source": [
    "The PDAL pipeline is now constructed for making the DSM. Running the the PDAL Python bindings function ```pdal.Pipeline()``` creates the pdal.Pipeline object from a json-ized version of the pointcloud pipeline we created."
   ]
  },
  {
   "cell_type": "code",
   "execution_count": null,
   "id": "f2db31c0",
   "metadata": {},
   "outputs": [],
   "source": [
    "dem_pipeline = pdal.Pipeline(json.dumps(dem_pipeline))"
   ]
  },
  {
   "cell_type": "markdown",
   "id": "37c5491c",
   "metadata": {},
   "source": [
    "The cell below will execute the dsm_pipeline object, which will make the API request, performing processing, and save the point cloud (if `savePointCloud == True`) and create and save the DSM at the specified location, name, and extension. \n",
    "\n",
    "The pipeline is executed in streaming mode, which significantly speeds up the process and cuts down on the required RAM. The `%%time` magic command will return the total computation time. The final output is the total number of points returned. "
   ]
  },
  {
   "cell_type": "code",
   "execution_count": null,
   "id": "f749cf45",
   "metadata": {
    "scrolled": false
   },
   "outputs": [],
   "source": [
    "%%time\n",
    "dem_pipeline.execute_streaming(chunk_size=1000000)"
   ]
  },
  {
   "cell_type": "markdown",
   "id": "6eb1dcee",
   "metadata": {},
   "source": [
    "Below, the same process is outlined for the making of at DTM. "
   ]
  },
  {
   "cell_type": "markdown",
   "id": "a7de2d50",
   "metadata": {},
   "source": [
    "### Make Digital Terrain Model (DTM)\n",
    "The following cells will produce a Digital Terrain Model (DTM), also called a 'bare earth model' using lidar returns classified as 'ground' (USGS Class 2). Do not modify the `user_wbd_poly_proj3857`, `usgs_3dep_datasets`, or `pointcloud_resolution` arguments. Specify the desired dtm resolution (in meters), the appropriate point cloud processing steps, and the file names/extensions."
   ]
  },
  {
   "cell_type": "code",
   "execution_count": null,
   "id": "06655269",
   "metadata": {
    "scrolled": false
   },
   "outputs": [],
   "source": [
    "# Do not modify user_wbd_poly_proj3857, usgs_3dep_datasets, or pointcloud_resolution\n",
    "# Modify the optional arguments to fit user need.\n",
    "# Change outCRS to EPSG code of desired coordinate reference system (Default is EPSG:3857 - Web Mercator Projection)\n",
    "# Change dem_outname to descriptive name and change dem_outExt and driver to desired file type.\n",
    "\n",
    "pointcloud_resolution = user_resolution.value\n",
    "dem_resolution = 2.0\n",
    "dem_pipeline = make_DEM_pipeline(user_wbd_poly_proj3857, usgs_3dep_datasets, pointcloud_resolution, dem_resolution,\n",
    "                                 filterNoise = True, reclassify = False, savePointCloud = False, outCRS = 3857,\n",
    "                                 pc_outName = 'wbd_test', pc_outType = 'laz', demType = 'dtm', \n",
    "                                 gridMethod = 'idw', dem_outName = 'test_dtm_wbd', dem_outExt = 'tif', driver = \"GTiff\")"
   ]
  },
  {
   "cell_type": "markdown",
   "id": "21047172",
   "metadata": {},
   "source": [
    "The PDAL pipeline is now constructed for making the DTM. Running the the PDAL Python bindings function ```pdal.Pipeline()``` creates the pdal.Pipeline object from a json-ized version of the pointcloud pipeline we created."
   ]
  },
  {
   "cell_type": "code",
   "execution_count": null,
   "id": "5074897c",
   "metadata": {},
   "outputs": [],
   "source": [
    "dem_pipeline = pdal.Pipeline(json.dumps(dem_pipeline))"
   ]
  },
  {
   "cell_type": "markdown",
   "id": "6beb6bac",
   "metadata": {},
   "source": [
    "The cell below will execute the dtm_pipeline object, which will make the API request, performing processing, and save the point cloud (if `savePointCloud == True`) and create and save the DTM at the specified location, name, and extension. \n",
    "\n",
    "The pipeline is executed in streaming mode, which significantly speeds up the process and cuts down on the required RAM. The `%%time` magic command will return the total computation time. The final output is the total number of points returned. "
   ]
  },
  {
   "cell_type": "code",
   "execution_count": null,
   "id": "2f59ee07",
   "metadata": {
    "scrolled": false
   },
   "outputs": [],
   "source": [
    "%%time\n",
    "dem_pipeline.execute_streaming(chunk_size=1000000)"
   ]
  },
  {
   "cell_type": "markdown",
   "id": "2f8990d5",
   "metadata": {
    "collapsed": true
   },
   "source": [
    "## Visualize the DEM (DSM/DTM)\n",
    "We can now visualize the DSM or DTM products in the Jupyter Notebook. We use the <a href=\"https://corteva.github.io/rioxarray/stable/\"> rioxarray </a> and <a href=\"https://matplotlib.org/stable/users/index.html\"> matplotlib </a> Python libraries for simple plotting. We import `rioxarray` and `matplotlib.pyplot` here."
   ]
  },
  {
   "cell_type": "code",
   "execution_count": null,
   "id": "745d6241",
   "metadata": {},
   "outputs": [],
   "source": [
    "import rioxarray\n",
    "import matplotlib.pyplot as plt"
   ]
  },
  {
   "cell_type": "markdown",
   "id": "d5664ce2",
   "metadata": {},
   "source": [
    "Now we must define the file name we would like to plot. This could be a file path (e.g., `/path/to/my/dtm/dtm.tif`). Then we open the dtm as an `xarray` object."
   ]
  },
  {
   "cell_type": "code",
   "execution_count": null,
   "id": "3e77b9c8",
   "metadata": {},
   "outputs": [],
   "source": [
    "dtm_name = 'test_dtm_wbd.tif'\n",
    "dtm = rioxarray.open_rasterio(dtm_name, masked=True) # /path/to/your/dtm/dtm.tif"
   ]
  },
  {
   "cell_type": "markdown",
   "id": "b3821666",
   "metadata": {},
   "source": [
    "Now we plot the DTM. By default, we use the 'viridis' colorbar to plot the bare earth elevation. Other colormaps can be used, and more information about available colormaps can be found here: https://matplotlib.org/stable/tutorials/colors/colormaps.html ).\n",
    "\n",
    "Using the argument `robust=True` stretches the colors between the 2nd and 98th percentiles of our elevation data. This is just for visualization - the original values are preserved."
   ]
  },
  {
   "cell_type": "code",
   "execution_count": null,
   "id": "17ad883d",
   "metadata": {},
   "outputs": [],
   "source": [
    "plt.figure(figsize=(10,10))\n",
    "dtm.plot(cmap=\"viridis\", robust=True)\n",
    "plt.title(\"Digital Terrain Model (DTM) in Meters\")\n",
    "plt.ticklabel_format(style=\"plain\")\n",
    "plt.axis('equal')"
   ]
  },
  {
   "cell_type": "markdown",
   "id": "eeca356a",
   "metadata": {},
   "source": [
    "Pretty cool, right? But what if we would like to look at a statistical distribution of the elevation in this region? We can plot a simple histogram, as shown below."
   ]
  },
  {
   "cell_type": "code",
   "execution_count": null,
   "id": "2e7f4f70",
   "metadata": {},
   "outputs": [],
   "source": [
    "plt.figure(figsize=(10,10))\n",
    "plt.style.use('seaborn') # prettier plot\n",
    "dtm.plot.hist(bins=100)\n",
    "plt.title(\"Distribution of Elevation in Meters\");"
   ]
  },
  {
   "cell_type": "markdown",
   "id": "ce3c4c69",
   "metadata": {},
   "source": [
    "## Conclusion\n",
    "This Jupyter Notebook is designed to make accessing, processing, visualizing, and creating derivative products with 3DEP more straightforward. Specifically, this notebook provides a workflow for programmatically accessing the 3DEP lidar point cloud data using an API request to the cloud-hosted AWS S3 bucket, performing basic processing steps on the point cloud data, and producing digital elevation models (DTMs/DSMs) user-defined USGS 12- and 14-digit hydrologic units.\n",
    "\n",
    "Feedback regarding the workflow, specific use cases, and any computational testing with the notebook are welcomed and encouraged! "
   ]
  },
  {
   "cell_type": "markdown",
   "id": "fcf65c16",
   "metadata": {},
   "source": [
    "## Resources\n",
    "\n",
    "All OpenTopography USGS 3DEP scientific workflows in this collection:<br>\n",
    "\n",
    "1. [Generate and visualize DEMs (DTM and DSM) from USGS 3D Elevation Program (3DEP) lidar data for user-defined area of interest](https://github.com/cmspeed/OT_3DEP_Workflows/blob/main/notebooks/01_3DEP_Generate_DEM_User_AOI.ipynb)[![Open In Colab](https://colab.research.google.com/assets/colab-badge.svg)](https://colab.research.google.com/github/cmspeed/OT_3DEP_Workflows/blob/main/notebooks/01_3DEP_Generate_DEM_User_AOI.ipynb) <br>\n",
    "\n",
    "2. [Generate and visualize DEMs (DTM and DSM) from USGS 3D Elevation Program (3DEP) lidar data for USGS 7.5’ Quadrangles](https://github.com/cmspeed/OT_3DEP_Workflows/blob/main/notebooks/02_3DEP_Generate_DEM_USGS_7.5_Quadrangles.ipynb)[![Open In Colab](https://colab.research.google.com/assets/colab-badge.svg)](https://colab.research.google.com/github/cmspeed/OT_3DEP_Workflows/blob/main/notebooks/02_3DEP_Generate_DEM_USGS_7.5_Quadrangles.ipynb) <br>\n",
    "\n",
    "3. [Generate and visualize DEMs (DTM and DSM) from USGS 3D Elevation Program (3DEP) lidar data for USGS Hydrologic Units](https://github.com/cmspeed/OT_3DEP_Workflows/blob/main/notebooks/03_3DEP_Generate_DEM_USGS_HUCs.ipynb)[![Open In Colab](https://colab.research.google.com/assets/colab-badge.svg)](https://colab.research.google.com/github/cmspeed/OT_3DEP_Workflows/blob/main/notebooks/03_3DEP_Generate_DEM_USGS_HUCs.ipynb) <br>\n",
    "\n",
    "4. [Generate and visualize DEMs (DTM and DSM) from USGS 3D Elevation Program (3DEP) lidar data for user-defined corridors](https://github.com/cmspeed/OT_3DEP_Workflows/blob/main/notebooks/04_3DEP_Generate_DEM_Corridors.ipynb)[![Open In Colab](https://colab.research.google.com/assets/colab-badge.svg)](https://colab.research.google.com/github/cmspeed/OT_3DEP_Workflows/blob/main/notebooks/04_3DEP_Generate_DEM_Corridors.ipynb) <br>\n",
    "\n",
    "5. [Generate Canopy Height Model (CHM) using USGS 3D Elevation Program (3DEP) lidar data for user-defined area of interest](https://github.com/cmspeed/OT_3DEP_Workflows/blob/main/notebooks/05_3DEP_Generate_Canopy_Height_Models_User_AOI.ipynb)[![Open In Colab](https://colab.research.google.com/assets/colab-badge.svg)](https://colab.research.google.com/github/cmspeed/OT_3DEP_Workflows/blob/main/notebooks/05_3DEP_Generate_Canopy_Height_Models_User_AOI.ipynb) <br>\n",
    "\n",
    "6. [Topographic Differencing using USGS 3D Elevation Program (3DEP) lidar data for user-defined area of interest](https://github.com/cmspeed/OT_3DEP_Workflows/blob/main/notebooks/06_3DEP_Topographic_Differencing.ipynb)[![Open In Colab](https://colab.research.google.com/assets/colab-badge.svg)](https://colab.research.google.com/github/cmspeed/OT_3DEP_Workflows/blob/main/notebooks/06_3DEP_Topographic_Differencing.ipynb) <br>\n",
    "\n",
    "7. [Generate colorized (RGB) point clouds using USGS 3D Elevation Program (3DEP) lidar data and National Agriculture Imagery Program (NAIP) Imagery](https://github.com/cmspeed/OT_3DEP_Workflows/blob/main/notebooks/07_3DEP_Generate_Colorized_PointClouds.ipynb)[![Open In Colab](https://colab.research.google.com/assets/colab-badge.svg)](https://colab.research.google.com/github/cmspeed/OT_3DEP_Workflows/blob/main/notebooks/07_3DEP_Generate_Colorized_PointClouds.ipynb)\n",
    "    \n",
    "### Additional Resources\n",
    "\n",
    "- Access USGS 3DEP via the <a href=\"https://portal.opentopography.org/datasets\">OpenTopography</a> portal (Currently restricted to academics).\n",
    "\n",
    "- The USGS 3DEP Lidar Point Cloud Data are accessible in Entwine Point Tile (EPT) format from this <a href=\"https://registry.opendata.aws/usgs-lidar/\">Amazon Web Services S3 Bucket</a>. <br>\n",
    "\n",
    "- The USGS hydrologic unit boundaries are accessed via the <a href=\"https://hydro.nationalmap.gov/arcgis/rest/services/wbd/MapServer\">USGS Watershed Dataset Map Service</a>. <br>\n",
    "\n",
    "- The USGS 7.5' quadrangle boundaries are accessed via the <a href=\"https://carto.nationalmap.gov/arcgis/rest/services/map_indices/MapServer\"> USGS Map Indicies Service</a>. <br>\n",
    "\n",
    "- Documentation for open-source Python libararies used by these workflows include <a href=\"https://pdal.dev/en/latest/\">PDAL</a> and <a href=\"https://gdal.org/\">GDAL</a>."
   ]
  }
 ],
 "metadata": {
  "language_info": {
   "codemirror_mode": {
    "name": "ipython",
    "version": 3
   },
   "file_extension": ".py",
   "mimetype": "text/x-python",
   "name": "python",
   "nbconvert_exporter": "python",
   "pygments_lexer": "ipython3",
   "version": "3.10.5"
  }
 },
 "nbformat": 4,
 "nbformat_minor": 5
}
