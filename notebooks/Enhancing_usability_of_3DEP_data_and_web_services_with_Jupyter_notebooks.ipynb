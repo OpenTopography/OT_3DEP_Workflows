{
 "cells": [
  {
   "cell_type": "markdown",
   "id": "turkish-orchestra",
   "metadata": {},
   "source": [
    "# Enhancing usability of 3DEP data and web services with Jupyter notebooks\n"
   ]
  },
  {
   "cell_type": "markdown",
   "id": "1bd71150",
   "metadata": {},
   "source": [
    "<h1><Table of Contents<span class=\\\"tocSkip\\\"></span></h1>\n",
    "<div class=\\\"toc\\\"><ul class=\\\"toc-item\\\"><li><span><a href=\\\"#Authors\\\" data-toc-modified-id=\\\"Authors-1\\\"><span class=\\\"toc-item-num\\\">1&nbsp;&nbsp;</span>Authors</a></span></li><li><span><a href=\\\"#Purpose\\\" data-toc-modified-id=\\\"Purpose-2\\\"><span class=\\\"toc-item-num\\\">2&nbsp;&nbsp;</span>Purpose</a></span></li><li><span><a href=\\\"#Funding\\\" data-toc-modified-id=\\\"Funding-3\\\"><span class=\\\"toc-item-num\\\">3&nbsp;&nbsp;</span>Funding</a></span></li><li><span><a href=\\\"#Keywords\\\" data-toc-modified-id=\\\"Keywords-4\\\"><span class=\\\"toc-item-num\\\">4&nbsp;&nbsp;</span>Keywords</a></span></li><li><span><a href=\\\"#Citation\\\" data-toc-modified-id=\\\"Citation-5\\\"><span class=\\\"toc-item-num\\\">5&nbsp;&nbsp;</span>Citation</a></span></li><li><span><a href=\\\"#Setup\\\" data-toc-modified-id=\\\"Setup-6\\\"><span class=\\\"toc-item-num\\\">6&nbsp;&nbsp;</span>Setup</a></span><ul class=\\\"toc-item\\\"><li><span><a href=\\\"#Library-Imports\\\" data-toc-modified-id=\\\"Library-Imports-6.1\\\"><span class=\\\"toc-item-num\\\">6.1&nbsp;&nbsp;</span>Library Imports</a></span></li></ul></li><li><span><a href=\\\"#Data-Access-and-Visualization\\\" data-toc-modified-id=\\\"Data-Access-and-Visualization-7\\\"><span class=\\\"toc-item-num\\\">7&nbsp;&nbsp;</span>Data Access and Visualization</a></span><ul class=\\\"toc-item\\\"><li><span><a href=\\\"#Access-SRTM-Tiles-with-AWS-CLI\\\" data-toc-modified-id=\\\"Access-SRTM-Tiles-with-AWS-CLI-7.1\\\"><span class=\\\"toc-item-num\\\">7.1&nbsp;&nbsp;</span>Access SRTM Tiles with AWS CLI</a></span></li><li><span><a href=\\\"#Plot-SRTM-Tiles\\\" data-toc-modified-id=\\\"Plot-SRTM-Tiles-7.2\\\"><span class=\\\"toc-item-num\\\">7.2&nbsp;&nbsp;</span>Plot SRTM Tiles</a></span></li><li><span><a href=\\\"#SRTM-Bulk-Access-via-GDAL-VRTs\\\" data-toc-modified-id=\\\"SRTM-Bulk-Access-via-GDAL-VRTs-7.3\\\"><span class=\\\"toc-item-num\\\">7.3&nbsp;&nbsp;</span>SRTM Bulk Access via GDAL VRTs</a></span></li><li><span><a href=\\\"#Plot-SRTM-Mosaic\\\" data-toc-modified-id=\\\"Plot-SRTM-Mosaic-7.4\\\"><span class=\\\"toc-item-num\\\">7.4&nbsp;&nbsp;</span>Plot SRTM Mosaic</a></span></li><li><span><a href=\\\"#SRTM-Access-via-OpenTopography's-API\\\" data-toc-modified-id=\\\"SRTM-Access-via-OpenTopography's-API-7.5\\\"><span class=\\\"toc-item-num\\\">7.5&nbsp;&nbsp;</span>SRTM Access via OpenTopography's API</a></span></li></ul></li><li><span><a href=\\\"#Data-Processing\\\" data-toc-modified-id=\\\"Data-Processing-8\\\"><span class=\\\"toc-item-num\\\">8&nbsp;&nbsp;</span>Data Processing</a></span><ul class=\\\"toc-item\\\"><li><span><a href=\\\"#Download-Colorado-River-Vector-Data\\\" data-toc-modified-id=\\\"Download-Colorado-River-Vector-Data-8.1\\\"><span class=\\\"toc-item-num\\\">8.1&nbsp;&nbsp;</span>Download Colorado River Vector Data</a></span></li><li><span><a href=\\\"#Clip-River-Data\\\" data-toc-modified-id=\\\"Clip-River-Data-8.2\\\"><span class=\\\"toc-item-num\\\">8.2&nbsp;&nbsp;</span>Clip River Data</a></span></li><li><span><a href=\\\"#Buffer-River-Centerline\\\" data-toc-modified-id=\\\"Buffer-River-Centerline-8.3\\\"><span class=\\\"toc-item-num\\\">8.3&nbsp;&nbsp;</span>Buffer River Centerline</a></span></li><li><span><a href=\\\"#Dissolve-River-Buffer-Polygon\\\" data-toc-modified-id=\\\"Dissolve-River-Buffer-Polygon-8.4\\\"><span class=\\\"toc-item-num\\\">8.4&nbsp;&nbsp;</span>Dissolve River Buffer Polygon</a></span></li><li><span><a href=\\\"#Overplot-River-Shapefiles-on-DEM\\\" data-toc-modified-id=\\\"Overplot-River-Shapefiles-on-DEM-8.5\\\"><span class=\\\"toc-item-num\\\">8.5&nbsp;&nbsp;</span>Overplot River Shapefiles on DEM</a></span></li><li><span><a href=\\\"#Calculate-Projected-Bounds-of-River-Polygon\\\" data-toc-modified-id=\\\"Calculate-Projected-Bounds-of-River-Polygon-8.6\\\"><span class=\\\"toc-item-num\\\">8.6&nbsp;&nbsp;</span>Calculate Projected Bounds of River Polygon</a></span></li><li><span><a href=\\\"#Clip-Projected-River-Polygon\\\" data-toc-modified-id=\\\"Clip-Projected-River-Polygon-8.7\\\"><span class=\\\"toc-item-num\\\">8.7&nbsp;&nbsp;</span>Clip Projected River Polygon</a></span></li><li><span><a href=\\\"#Plot-Clipped-River-Buffer-on-DEM\\\" data-toc-modified-id=\\\"Plot-Clipped-River-Buffer-on-DEM-8.8\\\"><span class=\\\"toc-item-num\\\">8.8&nbsp;&nbsp;</span>Plot Clipped River Buffer on DEM</a></span></li><li><span><a href=\\\"#Extracting-and-Masking-SRTM-Data-in-One-Step\\\" data-toc-modified-id=\\\"Extracting-and-Masking-SRTM-Data-in-One-Step-8.9\\\"><span class=\\\"toc-item-num\\\">8.9&nbsp;&nbsp;</span>Extracting and Masking SRTM Data in One Step</a></span></li></ul></li><li><span><a href=\\\"#Conclusion\\\" data-toc-modified-id=\\\"Conclusion-9\\\"><span class=\\\"toc-item-num\\\">9&nbsp;&nbsp;</span>Conclusion</a></span></li><li><span><a href=\\\"#Resources\\\" data-toc-modified-id=\\\"Resources-10\\\"><span class=\\\"toc-item-num\\\">10&nbsp;&nbsp;</span>Resources</a></span></li></ul></div>"
   ]
  },
  {
   "cell_type": "markdown",
   "id": "4db3b420",
   "metadata": {},
   "source": [
    "<h2>Table of Contents<span class=\"tocSkip\"></span></h2>\n",
    "<div class=\"toc\"><ul class=\"toc-item\"><li><span><a href=\"#Authors\" data-toc-modified-id=\"Authors-1\"><span class=\"toc-item-num\">1&nbsp;&nbsp;</span>Authors</a></span></li><li><span><a href=\"#Purpose\" data-toc-modified-id=\"Purpose-2\"><span class=\"toc-item-num\">2&nbsp;&nbsp;</span>Purpose</a></span></li><li><span><a href=\"#Funding\" data-toc-modified-id=\"Funding-3\"><span class=\"toc-item-num\">3&nbsp;&nbsp;</span>Funding</a></span></li><li><span><a href=\"#Keywords\" data-toc-modified-id=\"Keywords-4\"><span class=\"toc-item-num\">4&nbsp;&nbsp;</span>Keywords</a></span></li><li><span><a href=\"#Citation\" data-toc-modified-id=\"Citation-5\"><span class=\"toc-item-num\">5&nbsp;&nbsp;</span>Citation</a></span></li><li><span><a href=\"#Setup\" data-toc-modified-id=\"Setup-6\"><span class=\"toc-item-num\">6&nbsp;&nbsp;</span>Setup</a></span><ul class=\"toc-item\"><li><span><a href=\"#Library-Imports\" data-toc-modified-id=\"Library-Imports-6.1\"><span class=\"toc-item-num\">6.1&nbsp;&nbsp;</span>Library Imports</a></span><class=\"toc-item\"><li><span><a href=\"#Library-Imports\" data-toc-modified-id=\"Library-Imports-6.1\"><span class=\"toc-item-num\">6.1&nbsp;&nbsp;</span>Define Functions</a></span><class=\"toc-item\"><li><span><a href=\"#Define-Functions\" data-toc-modified-id=\"Define-Functions-6.2\"></a></span></li><li><span><a href=\"#Data-Access-and-Visualization\" data-toc-modified-id=\"Data-Access-and-Visualization-7\"><span class=\"toc-item-num\">7&nbsp;&nbsp;</span>Data Access and Visualization</a></span><ul class=\"toc-item\"></ul></li><li><span><a href=\"#Data-Processing\" data-toc-modified-id=\"Data-Processing-8\"><span class=\"toc-item-num\">8&nbsp;&nbsp;</span>Data Processing</a></span><ul class=\"toc-item\"></ul></li><li><span><a href=\"#Conclusion\" data-toc-modified-id=\"Conclusion-9\"><span class=\"toc-item-num\">9&nbsp;&nbsp;</span>Conclusion</a></span></li><li><span><a href=\"#Resources\" data-toc-modified-id=\"Resources-10\"><span class=\"toc-item-num\">10&nbsp;&nbsp;</span>Resources</a></span></li></ul></div>\n",
    "    \n",
    "<h2>Authors</h2>\n",
    "<a id='#Authors'></a>\n",
    "\n",
    "<h2>Purpose</h2>\n",
    "<a id='#Purpose'></a>\n",
    "\n",
    "The United States Geological Survey's 3-D Elevation Program (3DEP)is an ongoing effort to provide high-quality topographic -- light detection and ranging (lidar) -- data for the entire conterminous United States, Hawaii, the U.S territories, and Interferometric Synthetic Aperture Radar (IfSAR) for Alaska over an 8-year period. Data acquisition is ongoing, with over 1800 3DEP datasets consisting of >42 trillion points covering an area of > 6 million $km^{2}$ already available for use.\n",
    "\n",
    "3DEP point cloud data can be downloaded on the web from a variety of resources including the <a href=\"https://portal.opentopography.org/datasets\">OpenTopography Portal</a> (restricted to academic users) and the <a href=\"https://prd-tnm.s3.amazonaws.com/LidarExplorer/index.html#/process\">USGS Lidar Explorer</a>. Due to limited computational resources, these web services implement limits on the spatial extent over which point cloud data may be accessed for a single job. In some cases, however, it may benefit users seeking raw, uprocessed point cloud data over large extents to be able to programmatically access, process, and visualize 3DEP point cloud data from a specific area of interest on their local workstation without the web service limitations. \n",
    "\n",
    "This Jupyter notebook is one of two developed focusing on enhancing access and usability of 3DEP data and derivative products. This notebook provides functions, pipelines, and overall workflow for effectively and efficiently accessing documents a Python-based workflow for accessing, processing, and visualizing 3DEP data, leveraging available APIs and cloud resources.\n",
    "\n",
    "<h4>Specific features of this notebook</h4>\n",
    "\n",
    "- Users may (1) select an area of interest (AOI) directly in an interactive map within this notebook; (2) import a shapefile or geoJSON file; or (3) directly input coordinate boundaries for their region of interest.\n",
    "\n",
    "- The relevant 3DEP dataset is accessed via the Amazon Web Services (AWS) API and point cloud data (stored as Entwine tiles) are accessed programmatically, clipped to the user-defined AOI and made available for subsequent processing.\n",
    "\n",
    "- Flexibile and customizable PDAL pipelines are available for classifying, processing, and computing derivate products based on user-defined specifications. \n",
    "\n",
    "- Point cloud data and/or derivative products are saved to local directory or local path defined by user.\n",
    "\n",
    "<h4>Additional resources</h4>\n",
    "An additional Python-based workflow has been developed and is availble in Jupyter Notebook format for <a href=\"http://localhost:8888/notebooks/Programmatically_accessing_3DEP_data_using_USGS_7.5_Quadrangles.ipynb\"> accessing 3DEP point cloud data for specific USGS 7.5' quadrangle footprints</a>.\n",
    "\n",
    "<h2>Funding</h2>\n",
    "<a id='#Funding'></a>\n",
    "OpenTopography is supported by the National Science Foundation under Award Numbers 1948997, 1948994 & 1948857. Funding for 3DEP workflow developement entitled \"Enhancing usability of 3DEP data and web services with Jupyter notebooks\"  was provided through the Community for Data Integration (CDI).\n",
    "\n",
    "<h2>Keywords</h2>\n",
    "<a id='#Keywords'></a>\n",
    "\n",
    "keywords=[\"OpenTopography\",\"USGS\", \"3DEP\", \"PDAL\"]\n",
    "\n",
    "<h2>Citation</h2>\n"
   ]
  },
  {
   "cell_type": "markdown",
   "id": "pleasant-vampire",
   "metadata": {},
   "source": [
    "<h3>Library Imports</h3>\n",
    "<a id='#Library-Imports-6.1'></a>\n"
   ]
  },
  {
   "cell_type": "code",
   "execution_count": 46,
   "id": "champion-questionnaire",
   "metadata": {
    "collapsed": true
   },
   "outputs": [],
   "source": [
    "import os\n",
    "import json\n",
    "import pdal\n",
    "import numpy as np\n",
    "import geopandas as gpd\n",
    "import ipyleaflet\n",
    "from ipyleaflet import Map, GeoJSON, basemaps, basemap_to_tiles, projections\n",
    "from osgeo import gdal\n",
    "from shapely.geometry import shape, Point, Polygon\n",
    "from shapely.ops import transform\n",
    "import requests\n",
    "import pyproj\n",
    "from pyproj.aoi import AreaOfInterest\n",
    "from pyproj.database import query_utm_crs_info\n",
    "from tqdm import tqdm\n",
    "import wget"
   ]
  },
  {
   "cell_type": "markdown",
   "id": "d1299e5e",
   "metadata": {},
   "source": [
    "<h3>Define Functions</h3>\n",
    "<a id='#Define-Functions-6.2'></a>"
   ]
  },
  {
   "cell_type": "code",
   "execution_count": 49,
   "id": "d924c977",
   "metadata": {},
   "outputs": [],
   "source": [
    "def gcs_to_proj(poly):\n",
    "    wgs84 = pyproj.CRS(\"EPSG:4326\")\n",
    "    web_mercator = pyproj.CRS(\"EPSG:3857\")\n",
    "    project = pyproj.Transformer.from_crs(wgs84, web_mercator, always_xy=True).transform\n",
    "    user_poly_proj3857 = transform(project, poly)\n",
    "    return(user_poly_proj3857)\n",
    "\n",
    "def handle_draw(target, action, geo_json):\n",
    "    geom = dict(geo_json['geometry'])\n",
    "    user_poly = shape(geom)\n",
    "    user_poly_proj3857 = gcs_to_proj(user_poly)\n",
    "    print('AOI is valid and has boundaries of ', user_poly_proj3857.bounds)\n",
    "    user_AOI.append((user_poly, user_poly_proj3857))  #for various reasons, we need user AOI in GCS and EPSG 3857\n",
    "\n",
    "def build_pdal_pipeline(extent_epsg3857, usgs_3dep_dataset_name, resolution, outname = 'test.laz'):\n",
    "    \n",
    "    '''\n",
    "    :param extent:\n",
    "    :param extent_epsg:\n",
    "    :param out_epsg:\n",
    "    :param usgs_survey_name:\n",
    "    :return:\n",
    "    '''\n",
    "   #reader = pdal.Reader.ept(url, polygon = AOI_EPSG3857_wtk, requests = 3)\n",
    "\n",
    "    filename = \"https://s3-us-west-2.amazonaws.com/usgs-lidar-public/{}/ept.json\".format(usgs_3dep_dataset_name)\n",
    "    \n",
    "    ### we could allow the user to reproject from Web Mercator (EPSG 3857) to any coordinate system\n",
    "    CRS = \"EPSG:{}\".format(out_epsg)\n",
    "\n",
    "    build_pipeline = {\"pipeline\": [\n",
    "        {\n",
    "            \"bounds\": str(ent_extent),\n",
    "            \"filename\": filename,\n",
    "            \"type\": \"readers.ept\",\n",
    "            \"tag\": \"readdata\"\n",
    "        },\n",
    "        {\n",
    "            \"limits\": \"Classification![7:7]\",\n",
    "            \"type\": \"filters.range\",\n",
    "            \"tag\": \"nonoise\"\n",
    "        }\n",
    "        \n",
    "        #outname\n",
    "    ]}\n",
    "\n",
    "    if not(pointResolution is None):\n",
    "        build_pipeline['pipeline'][0]['resolution'] = pointResolution\n",
    "\n",
    "#     build_pipeline = append_pointcloud_manipulation_pipeline(build_pipeline,extent,extent_epsg,out_epsg,filename,\n",
    "#                                                              grid_name,doReclassify,doSavePointCloud)\n",
    "\n",
    "    return build_pipeline"
   ]
  },
  {
   "cell_type": "markdown",
   "id": "14ecbeb2",
   "metadata": {},
   "source": [
    "## 3DEP Data Access \n",
    "3DEP lidar point cloud data are stored as Entwine tiles on \n",
    "\n",
    "Executing the next two cells will allow you to select a Area of Interest (AOI) for which point cloud data will be retreived. The map includes a Geo\n",
    "JSON file indicating where 3DEP point cloud data are available."
   ]
  },
  {
   "cell_type": "code",
   "execution_count": 24,
   "id": "4a267308",
   "metadata": {
    "collapsed": true
   },
   "outputs": [
    {
     "name": "stdout",
     "output_type": "stream",
     "text": [
      "projecting 3DEP polygons to web mercator (EPSG:3857)\n"
     ]
    },
    {
     "name": "stderr",
     "output_type": "stream",
     "text": [
      "100%|██████████████████████████████████████| 1807/1807 [00:08<00:00, 210.28it/s]\n",
      "/Users/cole/anaconda3/envs/pointcloud/lib/python3.10/site-packages/pandas/core/dtypes/cast.py:1981: ShapelyDeprecationWarning: __len__ for multi-part geometries is deprecated and will be removed in Shapely 2.0. Check the length of the `geoms` property instead to get the  number of parts of a multi-part geometry.\n",
      "  result[:] = values\n"
     ]
    }
   ],
   "source": [
    "### Get GeoJSON file for 3DEP outlines from URL \n",
    "\n",
    "#this needs to be modified to always make a new pull, even if it exists because it is possible updated at the source.\n",
    "if not os.path.exists('resources.geojson'):\n",
    "    url = 'https://raw.githubusercontent.com/hobuinc/usgs-lidar/master/boundaries/resources.geojson'\n",
    "    r = requests.get(url)\n",
    "    with open('resources.geojson', 'w') as f:\n",
    "        f.write(r.content.decode(\"utf-8\"))\n",
    "\n",
    "with open('resources.geojson', 'r') as f:\n",
    "    data = json.load(f)\n",
    "\n",
    "geo_json_3DEP = GeoJSON(data=data, style = {'color': 'green', 'opacity':1, \n",
    "                                       'weight':1.9, 'fillOpacity':0.1})\n",
    "\n",
    "with open('resources.geojson', 'r') as f:\n",
    "    df = gpd.read_file(f)\n",
    "\n",
    "projected_geoms = []\n",
    "\n",
    "print('projecting 3DEP polygons to web mercator (EPSG:3857)')\n",
    "for geometry in tqdm(df['geometry']):\n",
    "        projected_geoms.append(gcs_to_proj(geometry))\n",
    "\n",
    "df['geometry_epsg3857'] = projected_geoms\n",
    "geometries_GCS = df['geometry']\n",
    "geometries_EPSG3857 = df['geometry_epsg3857']\n",
    "names = df['name']\n",
    "urls = df['url']\n",
    "num_points = df['count']"
   ]
  },
  {
   "cell_type": "code",
   "execution_count": 47,
   "id": "aea8d50e",
   "metadata": {
    "collapsed": true
   },
   "outputs": [
    {
     "name": "stdout",
     "output_type": "stream",
     "text": [
      "total area =  11,819,759.79309707 sq km\n",
      "total points =  42,418,719,347,498 points\n"
     ]
    }
   ],
   "source": [
    "total_area = 0\n",
    "total_points = 0\n",
    "for i, geom in enumerate(geometries_EPSG3857):\n",
    "    area = geom.area\n",
    "    points = num_points[i]\n",
    "    total_area = total_area+area\n",
    "    total_points = total_points+points\n",
    "    \n",
    "total_area = total_area/1e6\n",
    "    \n",
    "print(\"total area = \", f\"{total_area:,}\", \"sq km\")\n",
    "print(\"total points = \", f\"{total_points:,}\", \"points\")"
   ]
  },
  {
   "cell_type": "code",
   "execution_count": null,
   "id": "49e51eab",
   "metadata": {
    "collapsed": true
   },
   "outputs": [],
   "source": [
    "for "
   ]
  },
  {
   "cell_type": "markdown",
   "id": "86389e5e",
   "metadata": {},
   "source": [
    "### Make ipyLeaflet map for user-defined AOI"
   ]
  },
  {
   "cell_type": "code",
   "execution_count": 44,
   "id": "c6f7cc4c",
   "metadata": {
    "collapsed": true
   },
   "outputs": [
    {
     "name": "stdout",
     "output_type": "stream",
     "text": [
      "Select an Area of Interest using the tools on the left side of the map\n"
     ]
    },
    {
     "data": {
      "application/vnd.jupyter.widget-view+json": {
       "model_id": "80b6e4c7e4a64214833ef807e42f15b3",
       "version_major": 2,
       "version_minor": 0
      },
      "text/plain": [
       "Map(center=[39, -100], controls=(ZoomControl(options=['position', 'zoom_in_text', 'zoom_in_title', 'zoom_out_t…"
      ]
     },
     "metadata": {},
     "output_type": "display_data"
    },
    {
     "name": "stdout",
     "output_type": "stream",
     "text": [
      "AOI is valid and has boundaries of  (-11302703.382089049, 4821496.635594831, -11273817.755340047, 4832662.279914664)\n"
     ]
    }
   ],
   "source": [
    "m = Map(\n",
    "    basemap=basemaps.Esri.WorldTopoMap,\n",
    "    center=(39, -100),\n",
    "    zoom=3,\n",
    "    crs=projections.EPSG3857\n",
    "    )\n",
    "\n",
    "m.add_layer(geo_json_3DEP)  #add 3DEP polygons GeoJSON\n",
    "\n",
    "dc = ipyleaflet.DrawControl(\n",
    "    marker={\"shapeOptions\": {\"color\": \"#0000FF\"}},\n",
    "    rectangle={\"shapeOptions\": {\"color\": \"#0000FF\"}},\n",
    "    circle={\"shapeOptions\": {\"color\": \"#0000FF\"}},\n",
    "    circlemarker={},\n",
    ")\n",
    "\n",
    "print('Select an Area of Interest using the tools on the left side of the map')\n",
    "user_AOI = []\n",
    "dc.on_draw(handle_draw)\n",
    "m.add_control(dc)\n",
    "m"
   ]
  },
  {
   "cell_type": "code",
   "execution_count": 45,
   "id": "ff54758f",
   "metadata": {
    "collapsed": true
   },
   "outputs": [
    {
     "name": "stdout",
     "output_type": "stream",
     "text": [
      "Your area of interest covers 322 sq. km and will include approximately  600,328,082 points from the USGS_LPC_KS_15CoNorth_A1_2015_LAS_2017 3DEP dataset\n"
     ]
    },
    {
     "data": {
      "application/vnd.jupyter.widget-view+json": {
       "model_id": "4c239154decd4622933560bbfb8dbc5e",
       "version_major": 2,
       "version_minor": 0
      },
      "text/plain": [
       "Map(center=[39.732031500000005, -101.40417], controls=(ZoomControl(options=['position', 'zoom_in_text', 'zoom_…"
      ]
     },
     "metadata": {},
     "output_type": "display_data"
    }
   ],
   "source": [
    "### this is where we want to zoom into the polygon\n",
    "AOI_GCS = user_AOI[0][0]\n",
    "AOI_EPSG3857 = user_AOI[0][1]\n",
    "centroid =  list(AOI_GCS.centroid.coords)[0]\n",
    "\n",
    "intersecting_polys = []\n",
    "for i,geom in enumerate(geometries_EPSG3857):\n",
    "    if geom.intersects(AOI_EPSG3857):\n",
    "        intersecting_polys.append((names[i], geometries_GCS[i], geometries_EPSG3857[i], urls[i], num_points[i]))\n",
    "\n",
    "m = Map(\n",
    "    basemap=basemaps.Esri.WorldTopoMap,\n",
    "    center=(centroid[1],centroid[0]),\n",
    "    zoom=10,\n",
    "    )\n",
    "\n",
    "wlayer_3DEP = ipyleaflet.WKTLayer(\n",
    "    wkt_string=intersecting_polys[0][1].wkt, \n",
    "    style={\"color\": \"green\"}, hover_style={\"fillColor\": \"red\"},\n",
    ")\n",
    "\n",
    "wlayer_user = ipyleaflet.WKTLayer(\n",
    "    wkt_string=AOI_GCS.boundary.wkt,\n",
    "    style={\"color\": \"blue\"}\n",
    ")\n",
    "\n",
    "m.add_layer(wlayer_3DEP)\n",
    "m.add_layer(wlayer_user)\n",
    "\n",
    "num_pts_est = int((AOI_EPSG3857.area/intersecting_polys[0][2].area)*(intersecting_polys[0][4]))\n",
    "\n",
    "print(\"Your area of interest covers\", int(AOI_EPSG3857.area/1e6),\n",
    "      \"sq. km and will include approximately \", f\"{num_pts_est:,} points from the\",\n",
    "      intersecting_polys[0][0], '3DEP dataset')\n",
    "m"
   ]
  },
  {
   "cell_type": "markdown",
   "id": "243209f9",
   "metadata": {},
   "source": [
    "**To Do: Would like to implement a \"mouse over\" object here so the user can see which dataset is which and select the one(s) they would like to access**\n",
    "\n",
    "Future implementation could be to query multiple datasets --> merge "
   ]
  },
  {
   "cell_type": "markdown",
   "id": "a3471de6",
   "metadata": {},
   "source": [
    "### Project to Web Mercator (EPSG: 3857)"
   ]
  },
  {
   "cell_type": "code",
   "execution_count": 6,
   "id": "0a1e1594",
   "metadata": {
    "collapsed": true
   },
   "outputs": [],
   "source": [
    "AOI_EPSG3857_wtk = AOI_EPSG3857.wkt + f\" / EPSG:3857\""
   ]
  },
  {
   "cell_type": "code",
   "execution_count": 7,
   "id": "68bfe221",
   "metadata": {
    "collapsed": true
   },
   "outputs": [],
   "source": [
    "url = intersecting_polys[0][3]\n",
    "OUTPUT_RESOLUTION = 2.0\n",
    "READ_RESOLUTION = 2.0"
   ]
  },
  {
   "cell_type": "code",
   "execution_count": 8,
   "id": "6e09d4ba",
   "metadata": {
    "collapsed": true
   },
   "outputs": [],
   "source": [
    "#could do a loop here to make multiple readers, if necessary\n",
    "readers = []\n",
    "reader = pdal.Reader.ept(url, polygon = AOI_EPSG3857_wtk, requests = 3)\n",
    "readers.append(reader)"
   ]
  },
  {
   "cell_type": "code",
   "execution_count": 9,
   "id": "e80d17dd",
   "metadata": {
    "collapsed": true
   },
   "outputs": [
    {
     "data": {
      "text/plain": [
       "{'type': 'readers.ept',\n",
       " 'polygon': 'POLYGON ((-11511037.809108661 3389224.2752507953, -11511037.809108661 3398921.9231663668, -11496035.28133445 3398921.9231663668, -11496035.28133445 3389224.2752507953, -11511037.809108661 3389224.2752507953)) / EPSG:3857',\n",
       " 'requests': 3,\n",
       " 'filename': 'https://s3-us-west-2.amazonaws.com/usgs-lidar-public/TX_WestTexas_B7_2018/ept.json'}"
      ]
     },
     "execution_count": 9,
     "metadata": {},
     "output_type": "execute_result"
    }
   ],
   "source": [
    "readers[0].options"
   ]
  },
  {
   "cell_type": "code",
   "execution_count": 10,
   "id": "37263921",
   "metadata": {
    "collapsed": true
   },
   "outputs": [],
   "source": [
    "assign = pdal.Filter.assign(value=[\"Intensity = Intensity / 256\"])"
   ]
  },
  {
   "cell_type": "code",
   "execution_count": 11,
   "id": "4710ec21",
   "metadata": {
    "collapsed": true
   },
   "outputs": [],
   "source": [
    "writer = pdal.Writer.las(\n",
    "    compression = \"laszip\",\n",
    "    filename = \"test.laz\"\n",
    ")"
   ]
  },
  {
   "cell_type": "code",
   "execution_count": 12,
   "id": "26182a22",
   "metadata": {
    "collapsed": true
   },
   "outputs": [],
   "source": [
    "pipeline = reader | assign | writer"
   ]
  },
  {
   "cell_type": "code",
   "execution_count": 13,
   "id": "22ae4046",
   "metadata": {
    "collapsed": true
   },
   "outputs": [
    {
     "data": {
      "text/plain": [
       "'{\\n  \"pipeline\":\\n  [\\n    {\\n      \"filename\": \"https://s3-us-west-2.amazonaws.com/usgs-lidar-public/TX_WestTexas_B7_2018/ept.json\",\\n      \"polygon\": \"POLYGON ((-11511037.809108661 3389224.2752507953, -11511037.809108661 3398921.9231663668, -11496035.28133445 3398921.9231663668, -11496035.28133445 3389224.2752507953, -11511037.809108661 3389224.2752507953)) / EPSG:3857\",\\n      \"requests\": \"3\",\\n      \"tag\": \"readers_ept1\",\\n      \"type\": \"readers.ept\"\\n    },\\n    {\\n      \"inputs\":\\n      [\\n        \"readers_ept1\"\\n      ],\\n      \"tag\": \"filters_assign1\",\\n      \"type\": \"filters.assign\",\\n      \"value\": \"Intensity = Intensity / 256\"\\n    },\\n    {\\n      \"compression\": \"laszip\",\\n      \"filename\": \"test.laz\",\\n      \"inputs\":\\n      [\\n        \"filters_assign1\"\\n      ],\\n      \"tag\": \"writers_las1\",\\n      \"type\": \"writers.las\"\\n    }\\n  ]\\n}\\n'"
      ]
     },
     "execution_count": 13,
     "metadata": {},
     "output_type": "execute_result"
    }
   ],
   "source": [
    "pipeline.pipeline"
   ]
  },
  {
   "cell_type": "code",
   "execution_count": null,
   "id": "2dff1380",
   "metadata": {
    "collapsed": true
   },
   "outputs": [],
   "source": [
    "%%time\n",
    "\n",
    "# Use streaming mode at 1e6 points at a time. This\n",
    "# helps us conserve memory for pipelines that are streamable\n",
    "# check that with the pipeline.streamable property\n",
    "results = pipeline.execute_streaming(chunk_size=1000000)\n",
    "print(pipeline.log)\n",
    "\n",
    "# the last stage of our pipeline is the writer, and the 'dimension'\n",
    "# option on the writer is what we want to print\n",
    "# dimension = pipeline.stages[-1].options[\"dimension\"]\n",
    "# print(f\"Number of points returned for dimension {dimension}: {results}\")"
   ]
  },
  {
   "cell_type": "markdown",
   "id": "fd05ce58",
   "metadata": {},
   "source": [
    "### Option 2: Use the user-defined AOI to find the intersecting Quads "
   ]
  },
  {
   "cell_type": "code",
   "execution_count": null,
   "id": "0895870e",
   "metadata": {
    "collapsed": true
   },
   "outputs": [],
   "source": [
    "### Find intersecting quads with the user AOI\n",
    "intersecting_polys = []\n",
    "for i,geom in enumerate(quads_geometries):\n",
    "    if geom.intersects(AOI_GCS):\n",
    "        intersecting_polys.append((quads_ID[i], geometries_GCS[i]))        "
   ]
  },
  {
   "cell_type": "code",
   "execution_count": null,
   "id": "5ece86e7",
   "metadata": {
    "collapsed": true
   },
   "outputs": [],
   "source": [
    "intersecting_polys[0][1]"
   ]
  },
  {
   "cell_type": "code",
   "execution_count": null,
   "id": "d019289d",
   "metadata": {
    "collapsed": true
   },
   "outputs": [],
   "source": [
    "### Project and merge the geometries that intersect for data extraction\n",
    "projected_geoms = []\n",
    "print('projecting Quadrangle polygons to web mercator (EPSG:3857)')\n",
    "for geometry in tqdm(quads['geometry']):\n",
    "        projected_geoms.append(gcs_to_proj(geometry))"
   ]
  },
  {
   "cell_type": "code",
   "execution_count": null,
   "id": "30e5de9f",
   "metadata": {
    "collapsed": true
   },
   "outputs": [],
   "source": [
    "m = Map(\n",
    "    basemap=basemaps.Esri.WorldTopoMap,\n",
    "    center=(39, -100),\n",
    "    zoom=3,\n",
    "    crs=projections.EPSG3857\n",
    "    )\n",
    "\n",
    "#m.add_layer(data)  #add quadrangle polygons GeoJSON\n",
    "for i,poly in enumerate(intersecting_polys):\n",
    "    print(intersecting_polys[i][1])\n",
    "    #m.add_layer(intersecting_polys[i][1])\n",
    "\n",
    "dc = ipyleaflet.DrawControl(\n",
    "    marker={\"shapeOptions\": {\"color\": \"#0000FF\"}},\n",
    "    rectangle={\"shapeOptions\": {\"color\": \"#0000FF\"}},\n",
    "    circle={\"shapeOptions\": {\"color\": \"#0000FF\"}},\n",
    "    circlemarker={},\n",
    ")\n",
    "\n",
    "print('Select an Area of Interest using the tools on the left side of the map')\n",
    "user_AOI = []\n",
    "dc.on_draw(handle_draw)\n",
    "m.add_control(dc)\n",
    "m"
   ]
  },
  {
   "cell_type": "markdown",
   "id": "technical-dallas",
   "metadata": {},
   "source": [
    "### Processing"
   ]
  },
  {
   "cell_type": "code",
   "execution_count": null,
   "id": "standing-mambo",
   "metadata": {
    "collapsed": true
   },
   "outputs": [],
   "source": [
    "### Brainstorming ideas for potential applications ### \n",
    "\n"
   ]
  },
  {
   "cell_type": "code",
   "execution_count": null,
   "id": "b4ccc04c",
   "metadata": {
    "collapsed": true
   },
   "outputs": [],
   "source": []
  }
 ],
 "metadata": {
  "kernelspec": {
   "display_name": "pointcloud",
   "language": "python",
   "name": "pointcloud"
  },
  "language_info": {
   "codemirror_mode": {
    "name": "ipython",
    "version": 3
   },
   "file_extension": ".py",
   "mimetype": "text/x-python",
   "name": "python",
   "nbconvert_exporter": "python",
   "pygments_lexer": "ipython3",
   "version": "3.10.4"
  }
 },
 "nbformat": 4,
 "nbformat_minor": 5
}
